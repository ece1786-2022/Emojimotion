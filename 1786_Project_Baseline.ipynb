{
  "nbformat": 4,
  "nbformat_minor": 0,
  "metadata": {
    "colab": {
      "provenance": []
    },
    "kernelspec": {
      "name": "python3",
      "display_name": "Python 3"
    },
    "language_info": {
      "name": "python"
    }
  },
  "cells": [
    {
      "cell_type": "code",
      "execution_count": 1,
      "metadata": {
        "id": "VFJgPPh_hpy-"
      },
      "outputs": [],
      "source": [
        "import pandas as pd\n",
        "import re\n",
        "from nltk import flatten\n",
        "import numpy as np"
      ]
    },
    {
      "cell_type": "markdown",
      "source": [
        "# Data pre-processing work related to baseline model\n",
        "\n",
        "\n"
      ],
      "metadata": {
        "id": "LuVD3fyVkvcd"
      }
    },
    {
      "cell_type": "code",
      "source": [
        "data = pd.read_csv('cleaned_tweets.csv')\n",
        "emoji_data = pd.read_csv('emoji.csv')"
      ],
      "metadata": {
        "id": "3lOByObVmak6"
      },
      "execution_count": 3,
      "outputs": []
    },
    {
      "cell_type": "code",
      "source": [
        "data.info()"
      ],
      "metadata": {
        "colab": {
          "base_uri": "https://localhost:8080/"
        },
        "id": "s8SaQoGQmvu3",
        "outputId": "e972d421-941d-4a40-f9e8-5908f457d88f"
      },
      "execution_count": 4,
      "outputs": [
        {
          "output_type": "stream",
          "name": "stdout",
          "text": [
            "<class 'pandas.core.frame.DataFrame'>\n",
            "RangeIndex: 222863 entries, 0 to 222862\n",
            "Data columns (total 5 columns):\n",
            " #   Column  Non-Null Count   Dtype \n",
            "---  ------  --------------   ----- \n",
            " 0   index   222863 non-null  int64 \n",
            " 1   id      222863 non-null  int64 \n",
            " 2   time    222863 non-null  object\n",
            " 3   tweets  222863 non-null  object\n",
            " 4   emoji   222863 non-null  object\n",
            "dtypes: int64(2), object(3)\n",
            "memory usage: 8.5+ MB\n"
          ]
        }
      ]
    },
    {
      "cell_type": "code",
      "source": [
        "emoji_data.info()"
      ],
      "metadata": {
        "colab": {
          "base_uri": "https://localhost:8080/"
        },
        "id": "OJcIIqMYoUoh",
        "outputId": "8a58b82c-075c-4f7e-9a54-9d19e311d646"
      },
      "execution_count": 5,
      "outputs": [
        {
          "output_type": "stream",
          "name": "stdout",
          "text": [
            "<class 'pandas.core.frame.DataFrame'>\n",
            "RangeIndex: 60 entries, 0 to 59\n",
            "Data columns (total 4 columns):\n",
            " #   Column      Non-Null Count  Dtype \n",
            "---  ------      --------------  ----- \n",
            " 0   Unnamed: 0  60 non-null     int64 \n",
            " 1   symbol      60 non-null     object\n",
            " 2   Name        60 non-null     object\n",
            " 3   Score       60 non-null     int64 \n",
            "dtypes: int64(2), object(2)\n",
            "memory usage: 2.0+ KB\n"
          ]
        }
      ]
    },
    {
      "cell_type": "code",
      "source": [
        "#display(emoji_data)\n",
        "#display(data)"
      ],
      "metadata": {
        "id": "Hc6-DGj2s2cr"
      },
      "execution_count": null,
      "outputs": []
    },
    {
      "cell_type": "markdown",
      "source": [
        "**Formatting the input data to a desired format**"
      ],
      "metadata": {
        "id": "59b96WVosjCS"
      }
    },
    {
      "cell_type": "code",
      "source": [
        "num_emoji=2000"
      ],
      "metadata": {
        "id": "e0jBcoKjO_zc"
      },
      "execution_count": 17,
      "outputs": []
    },
    {
      "cell_type": "code",
      "source": [
        "tweets_posts=[]\n",
        "target_number=[]\n",
        "target_emoji=[]\n",
        "#take 250 examples for now\n",
        "for e in emoji_data['symbol']:\n",
        "  tweets_posts.append(data[data.emoji==e]['tweets'][:num_emoji].tolist()) #find the first 250 (subject to change) tweets of emoji e\n",
        "  target_number.append([emoji_data[emoji_data['symbol']==e].index.values]*num_emoji) #append the index of emoji e 250 times (subject to change) to a list\n",
        "  target_emoji.append([e]*num_emoji)\n",
        "\n",
        "#they are nested list so need to flatten them\n",
        "target_number=flatten(target_number)\n",
        "target_number=[i[0] for i in target_number]\n",
        "target_emoji=flatten(target_emoji)\n",
        "tweets_posts=flatten(tweets_posts)\n",
        "\n",
        "#create a dictionary\n",
        "data2 = {'tweets':tweets_posts,\n",
        "        'emojis_num':target_number,\n",
        "         'emoji':target_emoji}"
      ],
      "metadata": {
        "id": "txYzIsUKtEyC"
      },
      "execution_count": 18,
      "outputs": []
    },
    {
      "cell_type": "markdown",
      "source": [
        "**Train Validation Split**"
      ],
      "metadata": {
        "id": "uuRUh-6Nscbw"
      }
    },
    {
      "cell_type": "code",
      "source": [
        "from sklearn.model_selection import train_test_split"
      ],
      "metadata": {
        "id": "GVH6-wzR0p2Q"
      },
      "execution_count": 21,
      "outputs": []
    },
    {
      "cell_type": "code",
      "source": [
        "#convert dictionary to a dataframe\n",
        "tweets_dataset = pd.DataFrame(data2)\n",
        "display(tweets_dataset)"
      ],
      "metadata": {
        "colab": {
          "base_uri": "https://localhost:8080/",
          "height": 424
        },
        "id": "pV6C78ZnUmyd",
        "outputId": "d85a5c69-efe1-4d46-a30f-30d1089529c6"
      },
      "execution_count": 22,
      "outputs": [
        {
          "output_type": "display_data",
          "data": {
            "text/plain": [
              "                                                   tweets  emojis_num emoji\n",
              "0       love to see it  the numbers they both pull is ...           0     👏\n",
              "1          a story book scene.. congrats to both of you!            0     👏\n",
              "2                       four arms  more like... \"for us\"            0     👏\n",
              "3       here here. an amazing team of reps delivering ...           0     👏\n",
              "4                         they should do that to all cex.           0     👏\n",
              "...                                                   ...         ...   ...\n",
              "119995        : destroy lonely &amp; ken carson - veteran          59    ▶️\n",
              "119996  ⠸ | orari ⠸ 18/11 pre-ordini photo-folio wv sh...          59    ▶️\n",
              "119997                 with  bartender - t-pain feat akon          59    ▶️\n",
              "119998  ongoing votings for bts  aaa:  mama:  playlist...          59    ▶️\n",
              "119999  avoid the hiring horrors and find out how you ...          59    ▶️\n",
              "\n",
              "[120000 rows x 3 columns]"
            ],
            "text/html": [
              "\n",
              "  <div id=\"df-87f361f6-761b-4a1f-9649-527fa0851772\">\n",
              "    <div class=\"colab-df-container\">\n",
              "      <div>\n",
              "<style scoped>\n",
              "    .dataframe tbody tr th:only-of-type {\n",
              "        vertical-align: middle;\n",
              "    }\n",
              "\n",
              "    .dataframe tbody tr th {\n",
              "        vertical-align: top;\n",
              "    }\n",
              "\n",
              "    .dataframe thead th {\n",
              "        text-align: right;\n",
              "    }\n",
              "</style>\n",
              "<table border=\"1\" class=\"dataframe\">\n",
              "  <thead>\n",
              "    <tr style=\"text-align: right;\">\n",
              "      <th></th>\n",
              "      <th>tweets</th>\n",
              "      <th>emojis_num</th>\n",
              "      <th>emoji</th>\n",
              "    </tr>\n",
              "  </thead>\n",
              "  <tbody>\n",
              "    <tr>\n",
              "      <th>0</th>\n",
              "      <td>love to see it  the numbers they both pull is ...</td>\n",
              "      <td>0</td>\n",
              "      <td>👏</td>\n",
              "    </tr>\n",
              "    <tr>\n",
              "      <th>1</th>\n",
              "      <td>a story book scene.. congrats to both of you!</td>\n",
              "      <td>0</td>\n",
              "      <td>👏</td>\n",
              "    </tr>\n",
              "    <tr>\n",
              "      <th>2</th>\n",
              "      <td>four arms  more like... \"for us\"</td>\n",
              "      <td>0</td>\n",
              "      <td>👏</td>\n",
              "    </tr>\n",
              "    <tr>\n",
              "      <th>3</th>\n",
              "      <td>here here. an amazing team of reps delivering ...</td>\n",
              "      <td>0</td>\n",
              "      <td>👏</td>\n",
              "    </tr>\n",
              "    <tr>\n",
              "      <th>4</th>\n",
              "      <td>they should do that to all cex.</td>\n",
              "      <td>0</td>\n",
              "      <td>👏</td>\n",
              "    </tr>\n",
              "    <tr>\n",
              "      <th>...</th>\n",
              "      <td>...</td>\n",
              "      <td>...</td>\n",
              "      <td>...</td>\n",
              "    </tr>\n",
              "    <tr>\n",
              "      <th>119995</th>\n",
              "      <td>: destroy lonely &amp;amp; ken carson - veteran</td>\n",
              "      <td>59</td>\n",
              "      <td>▶️</td>\n",
              "    </tr>\n",
              "    <tr>\n",
              "      <th>119996</th>\n",
              "      <td>⠸ | orari ⠸ 18/11 pre-ordini photo-folio wv sh...</td>\n",
              "      <td>59</td>\n",
              "      <td>▶️</td>\n",
              "    </tr>\n",
              "    <tr>\n",
              "      <th>119997</th>\n",
              "      <td>with  bartender - t-pain feat akon</td>\n",
              "      <td>59</td>\n",
              "      <td>▶️</td>\n",
              "    </tr>\n",
              "    <tr>\n",
              "      <th>119998</th>\n",
              "      <td>ongoing votings for bts  aaa:  mama:  playlist...</td>\n",
              "      <td>59</td>\n",
              "      <td>▶️</td>\n",
              "    </tr>\n",
              "    <tr>\n",
              "      <th>119999</th>\n",
              "      <td>avoid the hiring horrors and find out how you ...</td>\n",
              "      <td>59</td>\n",
              "      <td>▶️</td>\n",
              "    </tr>\n",
              "  </tbody>\n",
              "</table>\n",
              "<p>120000 rows × 3 columns</p>\n",
              "</div>\n",
              "      <button class=\"colab-df-convert\" onclick=\"convertToInteractive('df-87f361f6-761b-4a1f-9649-527fa0851772')\"\n",
              "              title=\"Convert this dataframe to an interactive table.\"\n",
              "              style=\"display:none;\">\n",
              "        \n",
              "  <svg xmlns=\"http://www.w3.org/2000/svg\" height=\"24px\"viewBox=\"0 0 24 24\"\n",
              "       width=\"24px\">\n",
              "    <path d=\"M0 0h24v24H0V0z\" fill=\"none\"/>\n",
              "    <path d=\"M18.56 5.44l.94 2.06.94-2.06 2.06-.94-2.06-.94-.94-2.06-.94 2.06-2.06.94zm-11 1L8.5 8.5l.94-2.06 2.06-.94-2.06-.94L8.5 2.5l-.94 2.06-2.06.94zm10 10l.94 2.06.94-2.06 2.06-.94-2.06-.94-.94-2.06-.94 2.06-2.06.94z\"/><path d=\"M17.41 7.96l-1.37-1.37c-.4-.4-.92-.59-1.43-.59-.52 0-1.04.2-1.43.59L10.3 9.45l-7.72 7.72c-.78.78-.78 2.05 0 2.83L4 21.41c.39.39.9.59 1.41.59.51 0 1.02-.2 1.41-.59l7.78-7.78 2.81-2.81c.8-.78.8-2.07 0-2.86zM5.41 20L4 18.59l7.72-7.72 1.47 1.35L5.41 20z\"/>\n",
              "  </svg>\n",
              "      </button>\n",
              "      \n",
              "  <style>\n",
              "    .colab-df-container {\n",
              "      display:flex;\n",
              "      flex-wrap:wrap;\n",
              "      gap: 12px;\n",
              "    }\n",
              "\n",
              "    .colab-df-convert {\n",
              "      background-color: #E8F0FE;\n",
              "      border: none;\n",
              "      border-radius: 50%;\n",
              "      cursor: pointer;\n",
              "      display: none;\n",
              "      fill: #1967D2;\n",
              "      height: 32px;\n",
              "      padding: 0 0 0 0;\n",
              "      width: 32px;\n",
              "    }\n",
              "\n",
              "    .colab-df-convert:hover {\n",
              "      background-color: #E2EBFA;\n",
              "      box-shadow: 0px 1px 2px rgba(60, 64, 67, 0.3), 0px 1px 3px 1px rgba(60, 64, 67, 0.15);\n",
              "      fill: #174EA6;\n",
              "    }\n",
              "\n",
              "    [theme=dark] .colab-df-convert {\n",
              "      background-color: #3B4455;\n",
              "      fill: #D2E3FC;\n",
              "    }\n",
              "\n",
              "    [theme=dark] .colab-df-convert:hover {\n",
              "      background-color: #434B5C;\n",
              "      box-shadow: 0px 1px 3px 1px rgba(0, 0, 0, 0.15);\n",
              "      filter: drop-shadow(0px 1px 2px rgba(0, 0, 0, 0.3));\n",
              "      fill: #FFFFFF;\n",
              "    }\n",
              "  </style>\n",
              "\n",
              "      <script>\n",
              "        const buttonEl =\n",
              "          document.querySelector('#df-87f361f6-761b-4a1f-9649-527fa0851772 button.colab-df-convert');\n",
              "        buttonEl.style.display =\n",
              "          google.colab.kernel.accessAllowed ? 'block' : 'none';\n",
              "\n",
              "        async function convertToInteractive(key) {\n",
              "          const element = document.querySelector('#df-87f361f6-761b-4a1f-9649-527fa0851772');\n",
              "          const dataTable =\n",
              "            await google.colab.kernel.invokeFunction('convertToInteractive',\n",
              "                                                     [key], {});\n",
              "          if (!dataTable) return;\n",
              "\n",
              "          const docLinkHtml = 'Like what you see? Visit the ' +\n",
              "            '<a target=\"_blank\" href=https://colab.research.google.com/notebooks/data_table.ipynb>data table notebook</a>'\n",
              "            + ' to learn more about interactive tables.';\n",
              "          element.innerHTML = '';\n",
              "          dataTable['output_type'] = 'display_data';\n",
              "          await google.colab.output.renderOutput(dataTable, element);\n",
              "          const docLink = document.createElement('div');\n",
              "          docLink.innerHTML = docLinkHtml;\n",
              "          element.appendChild(docLink);\n",
              "        }\n",
              "      </script>\n",
              "    </div>\n",
              "  </div>\n",
              "  "
            ]
          },
          "metadata": {}
        }
      ]
    },
    {
      "cell_type": "code",
      "source": [
        "X_train, X_valid,Y_train,Y_valid = train_test_split(data2['tweets'],data2['emojis_num'], test_size=0.2,stratify=data2['emojis_num'],random_state=3)\n",
        "print(len(X_train))\n",
        "print(len(X_valid))"
      ],
      "metadata": {
        "id": "RYOIsrrsvrP-",
        "colab": {
          "base_uri": "https://localhost:8080/"
        },
        "outputId": "2e38de1c-8d5e-4186-cf42-721259422aa0"
      },
      "execution_count": 12,
      "outputs": [
        {
          "output_type": "stream",
          "name": "stdout",
          "text": [
            "96000\n",
            "24000\n"
          ]
        }
      ]
    },
    {
      "cell_type": "code",
      "source": [
        "print(Y_train)"
      ],
      "metadata": {
        "id": "ZLGWHWogxYEl"
      },
      "execution_count": null,
      "outputs": []
    },
    {
      "cell_type": "markdown",
      "source": [
        "**Convert Y_data to one-hot format as required by baseline model**"
      ],
      "metadata": {
        "id": "gcT9s8VIsPPP"
      }
    },
    {
      "cell_type": "code",
      "source": [
        "def Y_one_hot(Y):\n",
        "  j=0\n",
        "  y_list=[]\n",
        "  #for loop to go through all the y_data\n",
        "  for i in Y: # i is the emoji index number\n",
        "    t=np.zeros(60) #不是很确定用Tensor还是numpy？？？\n",
        "    t[i]=1 #corresponding emoji index is 1\n",
        "    y_list.append(t)\n",
        "    j=j+1\n",
        "  return y_list"
      ],
      "metadata": {
        "id": "ixdZTDbKWVSK"
      },
      "execution_count": 14,
      "outputs": []
    },
    {
      "cell_type": "code",
      "source": [
        "Y_train=Y_one_hot(Y_train)\n",
        "Y_valid=Y_one_hot(Y_valid)"
      ],
      "metadata": {
        "id": "wRtTO9w_m584"
      },
      "execution_count": 15,
      "outputs": []
    },
    {
      "cell_type": "code",
      "source": [
        "print(Y_train)"
      ],
      "metadata": {
        "id": "g--D4SiJO4Rv"
      },
      "execution_count": null,
      "outputs": []
    },
    {
      "cell_type": "markdown",
      "source": [
        "# Baseline Model "
      ],
      "metadata": {
        "id": "UCfheuJ-relL"
      }
    },
    {
      "cell_type": "code",
      "source": [
        "#Baseline code start"
      ],
      "metadata": {
        "id": "SPdQLx9GHe1y"
      },
      "execution_count": null,
      "outputs": []
    }
  ]
}