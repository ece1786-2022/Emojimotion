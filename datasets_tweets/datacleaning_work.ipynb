{
  "nbformat": 4,
  "nbformat_minor": 0,
  "metadata": {
    "colab": {
      "provenance": []
    },
    "kernelspec": {
      "name": "python3",
      "display_name": "Python 3"
    },
    "language_info": {
      "name": "python"
    }
  },
  "cells": [
    {
      "cell_type": "code",
      "source": [
        "!pip install emoji\n",
        "!pip install clean-text"
      ],
      "metadata": {
        "colab": {
          "base_uri": "https://localhost:8080/"
        },
        "id": "Nzx5I-6V09p5",
        "outputId": "255e9c05-9783-469f-c871-af6bcf7f30bb"
      },
      "execution_count": 1,
      "outputs": [
        {
          "output_type": "stream",
          "name": "stdout",
          "text": [
            "Looking in indexes: https://pypi.org/simple, https://us-python.pkg.dev/colab-wheels/public/simple/\n",
            "Requirement already satisfied: emoji in /usr/local/lib/python3.7/dist-packages (1.7.0)\n",
            "Looking in indexes: https://pypi.org/simple, https://us-python.pkg.dev/colab-wheels/public/simple/\n",
            "Requirement already satisfied: clean-text in /usr/local/lib/python3.7/dist-packages (0.6.0)\n",
            "Requirement already satisfied: ftfy<7.0,>=6.0 in /usr/local/lib/python3.7/dist-packages (from clean-text) (6.1.1)\n",
            "Requirement already satisfied: emoji<2.0.0,>=1.0.0 in /usr/local/lib/python3.7/dist-packages (from clean-text) (1.7.0)\n",
            "Requirement already satisfied: wcwidth>=0.2.5 in /usr/local/lib/python3.7/dist-packages (from ftfy<7.0,>=6.0->clean-text) (0.2.5)\n"
          ]
        }
      ]
    },
    {
      "cell_type": "code",
      "source": [
        "import pandas as pd\n",
        "import re\n",
        "import emoji\n",
        "import string\n",
        "from cleantext import clean"
      ],
      "metadata": {
        "id": "69VnQjKm1AzZ",
        "colab": {
          "base_uri": "https://localhost:8080/"
        },
        "outputId": "53c02908-77ac-4a81-a6a7-ac8db42f1db9"
      },
      "execution_count": 2,
      "outputs": [
        {
          "output_type": "stream",
          "name": "stderr",
          "text": [
            "WARNING:root:Since the GPL-licensed package `unidecode` is not installed, using Python's `unicodedata` package which yields worse results.\n"
          ]
        }
      ]
    },
    {
      "cell_type": "code",
      "source": [
        "#read csv\n",
        "df1 = pd.read_csv('raw_tweets_p1.csv')\n",
        "#display(df1)\n",
        "df2 = pd.read_csv('raw_tweets_p2.csv')\n",
        "#display(df2)\n",
        "df3 = pd.read_csv('raw_tweets_p3.csv')\n",
        "df4 = df1.append(df2, ignore_index=True)\n",
        "df=df4.append(df3, ignore_index=True)\n",
        "display(df)\n"
      ],
      "metadata": {
        "colab": {
          "base_uri": "https://localhost:8080/",
          "height": 424
        },
        "id": "otAwlEl7zZkl",
        "outputId": "0cae6cf8-ca56-4de1-fc50-e59493ea9953"
      },
      "execution_count": 3,
      "outputs": [
        {
          "output_type": "display_data",
          "data": {
            "text/plain": [
              "                         id                 time  \\\n",
              "0       1593507164559056897  2022-11-18 07:31:28   \n",
              "1       1593507163971911682  2022-11-18 07:31:28   \n",
              "2       1593507163506462721  2022-11-18 07:31:28   \n",
              "3       1593507132296527873  2022-11-18 07:31:20   \n",
              "4       1593507130291769345  2022-11-18 07:31:20   \n",
              "...                     ...                  ...   \n",
              "300609  1593520889517297668  2022-11-18 08:26:00   \n",
              "300610  1593520798521778177  2022-11-18 08:25:39   \n",
              "300611  1593520489259204608  2022-11-18 08:24:25   \n",
              "300612  1593520348082970624  2022-11-18 08:23:51   \n",
              "300613  1593520095522955264  2022-11-18 08:22:51   \n",
              "\n",
              "                                                   tweets emoji  \n",
              "0       @BLACKPINKSTATS5 Love to see it 👏 the numbers ...     👏  \n",
              "1                 @PostmanCarson congratulations John 🎊 👏     👏  \n",
              "2       @Tyranjf @RunningWithTum1 @we_are_runners @Ich...     👏  \n",
              "3         A story book scene.. congrats to both of you! 👏     👏  \n",
              "4                      @thatpositivepie 👏👏👏 and good look     👏  \n",
              "...                                                   ...   ...  \n",
              "300609                    @UKDaddyBear1 Needs my tongue 👅     👅  \n",
              "300610                      @LoganFoxx69 Wow nice dick 🍆👅     👅  \n",
              "300611  Would you 💋 or 👅?\\n\\nbokep indo viral mesum li...     👅  \n",
              "300612                          @victoriacake3x Yeaaaah👅👅     👅  \n",
              "300613             @kinkykha Such a pretty pink pussy 👅💦💦     👅  \n",
              "\n",
              "[300614 rows x 4 columns]"
            ],
            "text/html": [
              "\n",
              "  <div id=\"df-4f4a359b-57f9-4719-a383-574f958d2ab1\">\n",
              "    <div class=\"colab-df-container\">\n",
              "      <div>\n",
              "<style scoped>\n",
              "    .dataframe tbody tr th:only-of-type {\n",
              "        vertical-align: middle;\n",
              "    }\n",
              "\n",
              "    .dataframe tbody tr th {\n",
              "        vertical-align: top;\n",
              "    }\n",
              "\n",
              "    .dataframe thead th {\n",
              "        text-align: right;\n",
              "    }\n",
              "</style>\n",
              "<table border=\"1\" class=\"dataframe\">\n",
              "  <thead>\n",
              "    <tr style=\"text-align: right;\">\n",
              "      <th></th>\n",
              "      <th>id</th>\n",
              "      <th>time</th>\n",
              "      <th>tweets</th>\n",
              "      <th>emoji</th>\n",
              "    </tr>\n",
              "  </thead>\n",
              "  <tbody>\n",
              "    <tr>\n",
              "      <th>0</th>\n",
              "      <td>1593507164559056897</td>\n",
              "      <td>2022-11-18 07:31:28</td>\n",
              "      <td>@BLACKPINKSTATS5 Love to see it 👏 the numbers ...</td>\n",
              "      <td>👏</td>\n",
              "    </tr>\n",
              "    <tr>\n",
              "      <th>1</th>\n",
              "      <td>1593507163971911682</td>\n",
              "      <td>2022-11-18 07:31:28</td>\n",
              "      <td>@PostmanCarson congratulations John 🎊 👏</td>\n",
              "      <td>👏</td>\n",
              "    </tr>\n",
              "    <tr>\n",
              "      <th>2</th>\n",
              "      <td>1593507163506462721</td>\n",
              "      <td>2022-11-18 07:31:28</td>\n",
              "      <td>@Tyranjf @RunningWithTum1 @we_are_runners @Ich...</td>\n",
              "      <td>👏</td>\n",
              "    </tr>\n",
              "    <tr>\n",
              "      <th>3</th>\n",
              "      <td>1593507132296527873</td>\n",
              "      <td>2022-11-18 07:31:20</td>\n",
              "      <td>A story book scene.. congrats to both of you! 👏</td>\n",
              "      <td>👏</td>\n",
              "    </tr>\n",
              "    <tr>\n",
              "      <th>4</th>\n",
              "      <td>1593507130291769345</td>\n",
              "      <td>2022-11-18 07:31:20</td>\n",
              "      <td>@thatpositivepie 👏👏👏 and good look</td>\n",
              "      <td>👏</td>\n",
              "    </tr>\n",
              "    <tr>\n",
              "      <th>...</th>\n",
              "      <td>...</td>\n",
              "      <td>...</td>\n",
              "      <td>...</td>\n",
              "      <td>...</td>\n",
              "    </tr>\n",
              "    <tr>\n",
              "      <th>300609</th>\n",
              "      <td>1593520889517297668</td>\n",
              "      <td>2022-11-18 08:26:00</td>\n",
              "      <td>@UKDaddyBear1 Needs my tongue 👅</td>\n",
              "      <td>👅</td>\n",
              "    </tr>\n",
              "    <tr>\n",
              "      <th>300610</th>\n",
              "      <td>1593520798521778177</td>\n",
              "      <td>2022-11-18 08:25:39</td>\n",
              "      <td>@LoganFoxx69 Wow nice dick 🍆👅</td>\n",
              "      <td>👅</td>\n",
              "    </tr>\n",
              "    <tr>\n",
              "      <th>300611</th>\n",
              "      <td>1593520489259204608</td>\n",
              "      <td>2022-11-18 08:24:25</td>\n",
              "      <td>Would you 💋 or 👅?\\n\\nbokep indo viral mesum li...</td>\n",
              "      <td>👅</td>\n",
              "    </tr>\n",
              "    <tr>\n",
              "      <th>300612</th>\n",
              "      <td>1593520348082970624</td>\n",
              "      <td>2022-11-18 08:23:51</td>\n",
              "      <td>@victoriacake3x Yeaaaah👅👅</td>\n",
              "      <td>👅</td>\n",
              "    </tr>\n",
              "    <tr>\n",
              "      <th>300613</th>\n",
              "      <td>1593520095522955264</td>\n",
              "      <td>2022-11-18 08:22:51</td>\n",
              "      <td>@kinkykha Such a pretty pink pussy 👅💦💦</td>\n",
              "      <td>👅</td>\n",
              "    </tr>\n",
              "  </tbody>\n",
              "</table>\n",
              "<p>300614 rows × 4 columns</p>\n",
              "</div>\n",
              "      <button class=\"colab-df-convert\" onclick=\"convertToInteractive('df-4f4a359b-57f9-4719-a383-574f958d2ab1')\"\n",
              "              title=\"Convert this dataframe to an interactive table.\"\n",
              "              style=\"display:none;\">\n",
              "        \n",
              "  <svg xmlns=\"http://www.w3.org/2000/svg\" height=\"24px\"viewBox=\"0 0 24 24\"\n",
              "       width=\"24px\">\n",
              "    <path d=\"M0 0h24v24H0V0z\" fill=\"none\"/>\n",
              "    <path d=\"M18.56 5.44l.94 2.06.94-2.06 2.06-.94-2.06-.94-.94-2.06-.94 2.06-2.06.94zm-11 1L8.5 8.5l.94-2.06 2.06-.94-2.06-.94L8.5 2.5l-.94 2.06-2.06.94zm10 10l.94 2.06.94-2.06 2.06-.94-2.06-.94-.94-2.06-.94 2.06-2.06.94z\"/><path d=\"M17.41 7.96l-1.37-1.37c-.4-.4-.92-.59-1.43-.59-.52 0-1.04.2-1.43.59L10.3 9.45l-7.72 7.72c-.78.78-.78 2.05 0 2.83L4 21.41c.39.39.9.59 1.41.59.51 0 1.02-.2 1.41-.59l7.78-7.78 2.81-2.81c.8-.78.8-2.07 0-2.86zM5.41 20L4 18.59l7.72-7.72 1.47 1.35L5.41 20z\"/>\n",
              "  </svg>\n",
              "      </button>\n",
              "      \n",
              "  <style>\n",
              "    .colab-df-container {\n",
              "      display:flex;\n",
              "      flex-wrap:wrap;\n",
              "      gap: 12px;\n",
              "    }\n",
              "\n",
              "    .colab-df-convert {\n",
              "      background-color: #E8F0FE;\n",
              "      border: none;\n",
              "      border-radius: 50%;\n",
              "      cursor: pointer;\n",
              "      display: none;\n",
              "      fill: #1967D2;\n",
              "      height: 32px;\n",
              "      padding: 0 0 0 0;\n",
              "      width: 32px;\n",
              "    }\n",
              "\n",
              "    .colab-df-convert:hover {\n",
              "      background-color: #E2EBFA;\n",
              "      box-shadow: 0px 1px 2px rgba(60, 64, 67, 0.3), 0px 1px 3px 1px rgba(60, 64, 67, 0.15);\n",
              "      fill: #174EA6;\n",
              "    }\n",
              "\n",
              "    [theme=dark] .colab-df-convert {\n",
              "      background-color: #3B4455;\n",
              "      fill: #D2E3FC;\n",
              "    }\n",
              "\n",
              "    [theme=dark] .colab-df-convert:hover {\n",
              "      background-color: #434B5C;\n",
              "      box-shadow: 0px 1px 3px 1px rgba(0, 0, 0, 0.15);\n",
              "      filter: drop-shadow(0px 1px 2px rgba(0, 0, 0, 0.3));\n",
              "      fill: #FFFFFF;\n",
              "    }\n",
              "  </style>\n",
              "\n",
              "      <script>\n",
              "        const buttonEl =\n",
              "          document.querySelector('#df-4f4a359b-57f9-4719-a383-574f958d2ab1 button.colab-df-convert');\n",
              "        buttonEl.style.display =\n",
              "          google.colab.kernel.accessAllowed ? 'block' : 'none';\n",
              "\n",
              "        async function convertToInteractive(key) {\n",
              "          const element = document.querySelector('#df-4f4a359b-57f9-4719-a383-574f958d2ab1');\n",
              "          const dataTable =\n",
              "            await google.colab.kernel.invokeFunction('convertToInteractive',\n",
              "                                                     [key], {});\n",
              "          if (!dataTable) return;\n",
              "\n",
              "          const docLinkHtml = 'Like what you see? Visit the ' +\n",
              "            '<a target=\"_blank\" href=https://colab.research.google.com/notebooks/data_table.ipynb>data table notebook</a>'\n",
              "            + ' to learn more about interactive tables.';\n",
              "          element.innerHTML = '';\n",
              "          dataTable['output_type'] = 'display_data';\n",
              "          await google.colab.output.renderOutput(dataTable, element);\n",
              "          const docLink = document.createElement('div');\n",
              "          docLink.innerHTML = docLinkHtml;\n",
              "          element.appendChild(docLink);\n",
              "        }\n",
              "      </script>\n",
              "    </div>\n",
              "  </div>\n",
              "  "
            ]
          },
          "metadata": {}
        }
      ]
    },
    {
      "cell_type": "code",
      "source": [
        "temp_data = df.groupby(\"emoji\").size().sort_values(ascending = False)\n",
        "# temp_list=df.index[df['emoji'] == '👅'].tolist()\n",
        "# print(len(temp_list))\n",
        "temp_data"
      ],
      "metadata": {
        "colab": {
          "base_uri": "https://localhost:8080/"
        },
        "id": "Qme99dQt0DbZ",
        "outputId": "283556e1-a5a6-4a00-a4fc-05778d62edd8"
      },
      "execution_count": 4,
      "outputs": [
        {
          "output_type": "execute_result",
          "data": {
            "text/plain": [
              "emoji\n",
              "💛        6082\n",
              "💗        5000\n",
              "💘        5000\n",
              "💚        5000\n",
              "💜        5000\n",
              "         ... \n",
              "💋        5000\n",
              "💓        5000\n",
              "💕        5000\n",
              "👅        4531\n",
              "emoji       1\n",
              "Length: 61, dtype: int64"
            ]
          },
          "metadata": {},
          "execution_count": 4
        }
      ]
    },
    {
      "cell_type": "markdown",
      "source": [
        "Remove Duplicates"
      ],
      "metadata": {
        "id": "CoWAN0zQB7Wd"
      }
    },
    {
      "cell_type": "code",
      "source": [
        "df.drop_duplicates(keep='first', subset=\"tweets\",inplace=True)\n",
        "df.info()\n",
        "#df.loc[120].tweets\n",
        "df=df.reset_index()\n",
        "\n",
        "#data cleaning process\n",
        "raw_dataset = df['tweets']\n",
        "target_emoji = df['emoji']\n",
        "tweet_id=df['id']\n",
        "tweet_time=df['time']\n",
        "#df.drop('index')\n",
        "#print(raw_dataset)"
      ],
      "metadata": {
        "colab": {
          "base_uri": "https://localhost:8080/"
        },
        "id": "u6PqvDrjB7Aq",
        "outputId": "2f7a9bfa-68f1-4ad9-d614-9071786dc3f6"
      },
      "execution_count": 5,
      "outputs": [
        {
          "output_type": "stream",
          "name": "stdout",
          "text": [
            "<class 'pandas.core.frame.DataFrame'>\n",
            "Int64Index: 283895 entries, 0 to 300517\n",
            "Data columns (total 4 columns):\n",
            " #   Column  Non-Null Count   Dtype \n",
            "---  ------  --------------   ----- \n",
            " 0   id      283895 non-null  object\n",
            " 1   time    283895 non-null  object\n",
            " 2   tweets  283895 non-null  object\n",
            " 3   emoji   283895 non-null  object\n",
            "dtypes: object(4)\n",
            "memory usage: 10.8+ MB\n"
          ]
        }
      ]
    },
    {
      "cell_type": "code",
      "source": [
        "temp_list=df.index[df['emoji'] == '👅'].tolist()\n",
        "print(len(temp_list))"
      ],
      "metadata": {
        "colab": {
          "base_uri": "https://localhost:8080/"
        },
        "id": "EtE5er0WwkSk",
        "outputId": "6348b294-c70c-4c38-dba4-1b2d194ac1e0"
      },
      "execution_count": 6,
      "outputs": [
        {
          "output_type": "stream",
          "name": "stdout",
          "text": [
            "4058\n"
          ]
        }
      ]
    },
    {
      "cell_type": "code",
      "source": [
        "display(df)"
      ],
      "metadata": {
        "colab": {
          "base_uri": "https://localhost:8080/",
          "height": 424
        },
        "id": "31TMtDF6Co3T",
        "outputId": "a50838e8-c429-4c93-82da-c3df6869edd2"
      },
      "execution_count": 7,
      "outputs": [
        {
          "output_type": "display_data",
          "data": {
            "text/plain": [
              "         index                   id                 time  \\\n",
              "0            0  1593507164559056897  2022-11-18 07:31:28   \n",
              "1            1  1593507163971911682  2022-11-18 07:31:28   \n",
              "2            2  1593507163506462721  2022-11-18 07:31:28   \n",
              "3            3  1593507132296527873  2022-11-18 07:31:20   \n",
              "4            4  1593507130291769345  2022-11-18 07:31:20   \n",
              "...        ...                  ...                  ...   \n",
              "283890  300239  1593564433950834688  2022-11-18 11:19:02   \n",
              "283891  300435  1593541867089567745  2022-11-18 09:49:22   \n",
              "283892  300440  1593541295082856448  2022-11-18 09:47:05   \n",
              "283893  300467  1593536193651695619  2022-11-18 09:26:49   \n",
              "283894  300517  1593529991777554432  2022-11-18 09:02:11   \n",
              "\n",
              "                                                   tweets emoji  \n",
              "0       @BLACKPINKSTATS5 Love to see it 👏 the numbers ...     👏  \n",
              "1                 @PostmanCarson congratulations John 🎊 👏     👏  \n",
              "2       @Tyranjf @RunningWithTum1 @we_are_runners @Ich...     👏  \n",
              "3         A story book scene.. congrats to both of you! 👏     👏  \n",
              "4                      @thatpositivepie 👏👏👏 and good look     👏  \n",
              "...                                                   ...   ...  \n",
              "283890  @misssophyxo How sexy the body would lick you💋...     👅  \n",
              "283891  @similolamobee Mama I saw the caption \\nI am n...     👅  \n",
              "283892  A day later, I'm still looking at Mommy's musc...     👅  \n",
              "283893               👅Drop your handles let’s follow you!     👅  \n",
              "283894       let's follow everyone who like and retweet 👅     👅  \n",
              "\n",
              "[283895 rows x 5 columns]"
            ],
            "text/html": [
              "\n",
              "  <div id=\"df-0cabb276-3b44-4ad3-bb79-b85a93368936\">\n",
              "    <div class=\"colab-df-container\">\n",
              "      <div>\n",
              "<style scoped>\n",
              "    .dataframe tbody tr th:only-of-type {\n",
              "        vertical-align: middle;\n",
              "    }\n",
              "\n",
              "    .dataframe tbody tr th {\n",
              "        vertical-align: top;\n",
              "    }\n",
              "\n",
              "    .dataframe thead th {\n",
              "        text-align: right;\n",
              "    }\n",
              "</style>\n",
              "<table border=\"1\" class=\"dataframe\">\n",
              "  <thead>\n",
              "    <tr style=\"text-align: right;\">\n",
              "      <th></th>\n",
              "      <th>index</th>\n",
              "      <th>id</th>\n",
              "      <th>time</th>\n",
              "      <th>tweets</th>\n",
              "      <th>emoji</th>\n",
              "    </tr>\n",
              "  </thead>\n",
              "  <tbody>\n",
              "    <tr>\n",
              "      <th>0</th>\n",
              "      <td>0</td>\n",
              "      <td>1593507164559056897</td>\n",
              "      <td>2022-11-18 07:31:28</td>\n",
              "      <td>@BLACKPINKSTATS5 Love to see it 👏 the numbers ...</td>\n",
              "      <td>👏</td>\n",
              "    </tr>\n",
              "    <tr>\n",
              "      <th>1</th>\n",
              "      <td>1</td>\n",
              "      <td>1593507163971911682</td>\n",
              "      <td>2022-11-18 07:31:28</td>\n",
              "      <td>@PostmanCarson congratulations John 🎊 👏</td>\n",
              "      <td>👏</td>\n",
              "    </tr>\n",
              "    <tr>\n",
              "      <th>2</th>\n",
              "      <td>2</td>\n",
              "      <td>1593507163506462721</td>\n",
              "      <td>2022-11-18 07:31:28</td>\n",
              "      <td>@Tyranjf @RunningWithTum1 @we_are_runners @Ich...</td>\n",
              "      <td>👏</td>\n",
              "    </tr>\n",
              "    <tr>\n",
              "      <th>3</th>\n",
              "      <td>3</td>\n",
              "      <td>1593507132296527873</td>\n",
              "      <td>2022-11-18 07:31:20</td>\n",
              "      <td>A story book scene.. congrats to both of you! 👏</td>\n",
              "      <td>👏</td>\n",
              "    </tr>\n",
              "    <tr>\n",
              "      <th>4</th>\n",
              "      <td>4</td>\n",
              "      <td>1593507130291769345</td>\n",
              "      <td>2022-11-18 07:31:20</td>\n",
              "      <td>@thatpositivepie 👏👏👏 and good look</td>\n",
              "      <td>👏</td>\n",
              "    </tr>\n",
              "    <tr>\n",
              "      <th>...</th>\n",
              "      <td>...</td>\n",
              "      <td>...</td>\n",
              "      <td>...</td>\n",
              "      <td>...</td>\n",
              "      <td>...</td>\n",
              "    </tr>\n",
              "    <tr>\n",
              "      <th>283890</th>\n",
              "      <td>300239</td>\n",
              "      <td>1593564433950834688</td>\n",
              "      <td>2022-11-18 11:19:02</td>\n",
              "      <td>@misssophyxo How sexy the body would lick you💋...</td>\n",
              "      <td>👅</td>\n",
              "    </tr>\n",
              "    <tr>\n",
              "      <th>283891</th>\n",
              "      <td>300435</td>\n",
              "      <td>1593541867089567745</td>\n",
              "      <td>2022-11-18 09:49:22</td>\n",
              "      <td>@similolamobee Mama I saw the caption \\nI am n...</td>\n",
              "      <td>👅</td>\n",
              "    </tr>\n",
              "    <tr>\n",
              "      <th>283892</th>\n",
              "      <td>300440</td>\n",
              "      <td>1593541295082856448</td>\n",
              "      <td>2022-11-18 09:47:05</td>\n",
              "      <td>A day later, I'm still looking at Mommy's musc...</td>\n",
              "      <td>👅</td>\n",
              "    </tr>\n",
              "    <tr>\n",
              "      <th>283893</th>\n",
              "      <td>300467</td>\n",
              "      <td>1593536193651695619</td>\n",
              "      <td>2022-11-18 09:26:49</td>\n",
              "      <td>👅Drop your handles let’s follow you!</td>\n",
              "      <td>👅</td>\n",
              "    </tr>\n",
              "    <tr>\n",
              "      <th>283894</th>\n",
              "      <td>300517</td>\n",
              "      <td>1593529991777554432</td>\n",
              "      <td>2022-11-18 09:02:11</td>\n",
              "      <td>let's follow everyone who like and retweet 👅</td>\n",
              "      <td>👅</td>\n",
              "    </tr>\n",
              "  </tbody>\n",
              "</table>\n",
              "<p>283895 rows × 5 columns</p>\n",
              "</div>\n",
              "      <button class=\"colab-df-convert\" onclick=\"convertToInteractive('df-0cabb276-3b44-4ad3-bb79-b85a93368936')\"\n",
              "              title=\"Convert this dataframe to an interactive table.\"\n",
              "              style=\"display:none;\">\n",
              "        \n",
              "  <svg xmlns=\"http://www.w3.org/2000/svg\" height=\"24px\"viewBox=\"0 0 24 24\"\n",
              "       width=\"24px\">\n",
              "    <path d=\"M0 0h24v24H0V0z\" fill=\"none\"/>\n",
              "    <path d=\"M18.56 5.44l.94 2.06.94-2.06 2.06-.94-2.06-.94-.94-2.06-.94 2.06-2.06.94zm-11 1L8.5 8.5l.94-2.06 2.06-.94-2.06-.94L8.5 2.5l-.94 2.06-2.06.94zm10 10l.94 2.06.94-2.06 2.06-.94-2.06-.94-.94-2.06-.94 2.06-2.06.94z\"/><path d=\"M17.41 7.96l-1.37-1.37c-.4-.4-.92-.59-1.43-.59-.52 0-1.04.2-1.43.59L10.3 9.45l-7.72 7.72c-.78.78-.78 2.05 0 2.83L4 21.41c.39.39.9.59 1.41.59.51 0 1.02-.2 1.41-.59l7.78-7.78 2.81-2.81c.8-.78.8-2.07 0-2.86zM5.41 20L4 18.59l7.72-7.72 1.47 1.35L5.41 20z\"/>\n",
              "  </svg>\n",
              "      </button>\n",
              "      \n",
              "  <style>\n",
              "    .colab-df-container {\n",
              "      display:flex;\n",
              "      flex-wrap:wrap;\n",
              "      gap: 12px;\n",
              "    }\n",
              "\n",
              "    .colab-df-convert {\n",
              "      background-color: #E8F0FE;\n",
              "      border: none;\n",
              "      border-radius: 50%;\n",
              "      cursor: pointer;\n",
              "      display: none;\n",
              "      fill: #1967D2;\n",
              "      height: 32px;\n",
              "      padding: 0 0 0 0;\n",
              "      width: 32px;\n",
              "    }\n",
              "\n",
              "    .colab-df-convert:hover {\n",
              "      background-color: #E2EBFA;\n",
              "      box-shadow: 0px 1px 2px rgba(60, 64, 67, 0.3), 0px 1px 3px 1px rgba(60, 64, 67, 0.15);\n",
              "      fill: #174EA6;\n",
              "    }\n",
              "\n",
              "    [theme=dark] .colab-df-convert {\n",
              "      background-color: #3B4455;\n",
              "      fill: #D2E3FC;\n",
              "    }\n",
              "\n",
              "    [theme=dark] .colab-df-convert:hover {\n",
              "      background-color: #434B5C;\n",
              "      box-shadow: 0px 1px 3px 1px rgba(0, 0, 0, 0.15);\n",
              "      filter: drop-shadow(0px 1px 2px rgba(0, 0, 0, 0.3));\n",
              "      fill: #FFFFFF;\n",
              "    }\n",
              "  </style>\n",
              "\n",
              "      <script>\n",
              "        const buttonEl =\n",
              "          document.querySelector('#df-0cabb276-3b44-4ad3-bb79-b85a93368936 button.colab-df-convert');\n",
              "        buttonEl.style.display =\n",
              "          google.colab.kernel.accessAllowed ? 'block' : 'none';\n",
              "\n",
              "        async function convertToInteractive(key) {\n",
              "          const element = document.querySelector('#df-0cabb276-3b44-4ad3-bb79-b85a93368936');\n",
              "          const dataTable =\n",
              "            await google.colab.kernel.invokeFunction('convertToInteractive',\n",
              "                                                     [key], {});\n",
              "          if (!dataTable) return;\n",
              "\n",
              "          const docLinkHtml = 'Like what you see? Visit the ' +\n",
              "            '<a target=\"_blank\" href=https://colab.research.google.com/notebooks/data_table.ipynb>data table notebook</a>'\n",
              "            + ' to learn more about interactive tables.';\n",
              "          element.innerHTML = '';\n",
              "          dataTable['output_type'] = 'display_data';\n",
              "          await google.colab.output.renderOutput(dataTable, element);\n",
              "          const docLink = document.createElement('div');\n",
              "          docLink.innerHTML = docLinkHtml;\n",
              "          element.appendChild(docLink);\n",
              "        }\n",
              "      </script>\n",
              "    </div>\n",
              "  </div>\n",
              "  "
            ]
          },
          "metadata": {}
        }
      ]
    },
    {
      "cell_type": "markdown",
      "source": [
        "Remove hastags, urls, mentions, BOM character, none-English words and extra spaces after cleaning"
      ],
      "metadata": {
        "id": "7YfPJj9i0APc"
      }
    },
    {
      "cell_type": "code",
      "source": [
        "# import nltk \n",
        "# nltk.download('words')\n",
        "# words = set(nltk.corpus.words.words())"
      ],
      "metadata": {
        "colab": {
          "base_uri": "https://localhost:8080/"
        },
        "id": "4w7zYoR_XApK",
        "outputId": "c3232426-838d-44f5-cf74-47b90d08f31e"
      },
      "execution_count": null,
      "outputs": [
        {
          "output_type": "stream",
          "name": "stderr",
          "text": [
            "[nltk_data] Downloading package words to /root/nltk_data...\n",
            "[nltk_data]   Package words is already up-to-date!\n"
          ]
        }
      ]
    },
    {
      "cell_type": "code",
      "source": [
        "#reference to https://github.com/giuliadnt/emo_tweepy with some changes\n",
        "def clean_tweets(list_of_tweets):\n",
        "    \"\"\"\n",
        "    :param list_of_tweets: list of unique tweets (no duplicates)\n",
        "    :return: list of preprocessed tweets\n",
        "    the function standardizes mentions --> @USER\n",
        "    and URLs --> @URL\n",
        "    removes BOM character\n",
        "    \"\"\"\n",
        "    # matches @username\n",
        "    # mentions = re.compile('(@.*?)(?=\\s|\\:)')#(^|\\s)\n",
        "    # links = re.compile('(http|ftp|https)://([\\w_-]+(?:(?:\\.[\\w_-]+)+))([\\w.,@?^=%&:/~+#-]*[\\w@?^=%&/~+#-])?')\n",
        "    # hashtags = re.compile('#([a-zA-Z0-9_]{1,50})')\n",
        "    # L = re.sub('[0-9]+', '', row['tweets']) \n",
        "    # L=re.split('[ ,.!?:$&*/\\|<>^+=-_-•%;。･，<>]',L)  \n",
        "    #no_mentions = [re.sub(mentions, \"\", i) for i in list_of_tweets]\n",
        "    punctuation=string.punctuation\n",
        "    lower_case = [i.lower() for i in list_of_tweets]\n",
        "    list_of_tweets=[clean(i,no_emoji=True) for i in lower_case] #remove in-text emojis\n",
        "    lower_case = [i.encode('ascii', 'ignore').decode() for i in lower_case] # remove unicode characters\n",
        "    # lower_case=[re.sub(punctuation, \"\", i) for i in lower_case]\n",
        "    \n",
        "    no_number=[re.sub('[0-9]+', \"\", i) for i in lower_case]\n",
        "    no_number=[re.sub(r'\\s[a-z]\\s|\\s[0-9]\\s', \" \", i) for i in no_number]\n",
        " \n",
        "    no_mentions = [re.sub(r\"@\\S+\", \"\", i) for i in no_number]\n",
        "   \n",
        "    no_links = [re.sub(r\"http\\S+\", \"\", i) for i in no_mentions]\n",
        "    no_links = [re.sub(r\"www.\\S+\", \"\", i) for i in no_links]\n",
        "    no_BOM = [re.sub(u\"\\ufeff\", \"\", i) for i in no_links]\n",
        "    #no_hash = [re.sub(hashtags,\"\",i)for i in no_BOM]\n",
        "    no_hash = [re.sub(r\"#\\S+\",\"\",i)for i in no_BOM]\n",
        "    no_newlinechar = [re.sub('\\n', \"\", i) for i in no_hash]\n",
        "    no_newlinechar=[i.translate(str.maketrans('', '', string.punctuation)) for i in no_newlinechar]\n",
        "    #no_nonEnglish = [\" \".join(w for w in nltk.wordpunct_tokenize(sent) if w.lower() in words or not w.isalpha()) for sent in no_newlinechar]\n",
        "    # for sent in no_newlinechar:\n",
        "    #   for word in sent:\n",
        "    #     word = \" \".join(w for w in nltk.wordpunct_tokenize(word) if w.lower() in words or not w.isalpha())\n",
        "    no_extraspace = [\" \".join(i.split()) for i in no_newlinechar]\n",
        "    return no_extraspace"
      ],
      "metadata": {
        "id": "so3YrdDzzomp"
      },
      "execution_count": 33,
      "outputs": []
    },
    {
      "cell_type": "code",
      "source": [
        "temp=[\"I need you girl 넌 아름다워 I! need you happy e girl👏 너무 차가워 I need you girl I need you girlI need you girl I need you girl - I NEED U -BTS Favorite K-Pop Artist\",\"Yeeeeeeeeeeees.Happy Birthday @Tilly\"]\n",
        "clean_tweets(temp)\n",
        "# sent = \" \".join(w for w in nltk.wordpunct_tokenize(temp) if w.lower() in words or not w.isalpha())\n",
        "# print(sent)"
      ],
      "metadata": {
        "colab": {
          "base_uri": "https://localhost:8080/"
        },
        "id": "aXB95MzhXsiC",
        "outputId": "1204a69c-6d25-43a8-9c2b-22140d8eab1c"
      },
      "execution_count": 34,
      "outputs": [
        {
          "output_type": "execute_result",
          "data": {
            "text/plain": [
              "['i need you girl i need you happy girl need you girl need you girli need you girl need you girl need bts favorite kpop artist',\n",
              " 'yeeeeeeeeeeeeshappy birthday']"
            ]
          },
          "metadata": {},
          "execution_count": 34
        }
      ]
    },
    {
      "cell_type": "code",
      "source": [
        "temp=[\"A 你好story book scene.. congrats to both of you! 👏\"]\n",
        "print(\"Before clean:\",temp)\n",
        "print(\"After clean:\",clean_tweets(temp))"
      ],
      "metadata": {
        "colab": {
          "base_uri": "https://localhost:8080/"
        },
        "id": "jek3sMmtDPlw",
        "outputId": "73323249-fe68-4961-ba57-704c91d9e93e"
      },
      "execution_count": 35,
      "outputs": [
        {
          "output_type": "stream",
          "name": "stdout",
          "text": [
            "Before clean: ['A 你好story book scene.. congrats to both of you! 👏']\n",
            "After clean: ['a story book scene congrats to both of you']\n"
          ]
        }
      ]
    },
    {
      "cell_type": "code",
      "source": [
        "string.punctuation"
      ],
      "metadata": {
        "colab": {
          "base_uri": "https://localhost:8080/",
          "height": 35
        },
        "id": "nu1Bx2mIGQyC",
        "outputId": "28e7ba46-1272-4f99-db25-b8dd5f527772"
      },
      "execution_count": 32,
      "outputs": [
        {
          "output_type": "execute_result",
          "data": {
            "text/plain": [
              "'!\"#$%&\\'()*+,-./:;<=>?@[\\\\]^_`{|}~'"
            ],
            "application/vnd.google.colaboratory.intrinsic+json": {
              "type": "string"
            }
          },
          "metadata": {},
          "execution_count": 32
        }
      ]
    },
    {
      "cell_type": "code",
      "source": [
        "#remove hashtags,urls,@,extraspances..\n",
        "cleaned_dataset=clean_tweets(raw_dataset)"
      ],
      "metadata": {
        "id": "kUKVL05TzzV_"
      },
      "execution_count": 36,
      "outputs": []
    },
    {
      "cell_type": "code",
      "source": [
        "cleaned_dataset[0:10]"
      ],
      "metadata": {
        "colab": {
          "base_uri": "https://localhost:8080/"
        },
        "id": "xfUtLFDdCEu4",
        "outputId": "90e7e372-3d90-497b-bef8-5f46b13ce702"
      },
      "execution_count": 13,
      "outputs": [
        {
          "output_type": "execute_result",
          "data": {
            "text/plain": [
              "['blackpinkstats love to see it the numbers they both pull is mind blowing talent speaks for itself',\n",
              " 'postmancarson congratulations john',\n",
              " 'tyranjf runningwithtum wearerunners ichoosebactive well done champ',\n",
              " 'a story book scene congrats to both of you',\n",
              " 'thatpositivepie and good look',\n",
              " 'rjayowo four arms more like for us',\n",
              " 'cleanfeedttvr love the mogg',\n",
              " 'here here an amazing team of reps delivering and making work better for our members',\n",
              " 'enronchairman they should do that to all cex',\n",
              " 'congratulations chi chi']"
            ]
          },
          "metadata": {},
          "execution_count": 13
        }
      ]
    },
    {
      "cell_type": "code",
      "source": [
        "#organize post and emoji to a dataframe\n",
        "data2 = {'id':tweet_id,\n",
        "         'time':tweet_time,\n",
        "         'tweets':cleaned_dataset,\n",
        "        'emoji':target_emoji}\n",
        "\n",
        "Emojimotion_df = pd.DataFrame(data2)"
      ],
      "metadata": {
        "id": "M5hNp21k3ntC"
      },
      "execution_count": 37,
      "outputs": []
    },
    {
      "cell_type": "markdown",
      "source": [
        "Drop the sentences that are less than 4 words"
      ],
      "metadata": {
        "id": "t6iWCyoJTurb"
      }
    },
    {
      "cell_type": "code",
      "source": [
        "ind_list=[]\n",
        "ind=0\n",
        "temp=cleaned_dataset\n",
        "for tw in temp:\n",
        "  tw_word_list = re. findall(r\"[\\w'\\\"]+|[,.!?] \", tw)\n",
        "  # print(tw_word_list)\n",
        "  #print(len(tw_word))\n",
        "  if len(tw_word_list)<4:\n",
        "    ind_list.append(ind)\n",
        "  ind=ind+1\n",
        "Emojimotion_df.drop(ind_list,axis=0,inplace=True)\n",
        "Emojimotion_df=Emojimotion_df.reset_index()\n",
        "Emojimotion_df.head()"
      ],
      "metadata": {
        "id": "awVtexbO7zq_",
        "colab": {
          "base_uri": "https://localhost:8080/",
          "height": 206
        },
        "outputId": "b905447e-a464-4602-b214-ebc33ce32272"
      },
      "execution_count": 38,
      "outputs": [
        {
          "output_type": "execute_result",
          "data": {
            "text/plain": [
              "   index                   id                 time  \\\n",
              "0      0  1593507164559056897  2022-11-18 07:31:28   \n",
              "1      3  1593507132296527873  2022-11-18 07:31:20   \n",
              "2      5  1593507124596084736  2022-11-18 07:31:19   \n",
              "3      7  1593507111023034369  2022-11-18 07:31:15   \n",
              "4      8  1593507062893641728  2022-11-18 07:31:04   \n",
              "\n",
              "                                              tweets emoji  \n",
              "0  love to see it the numbers they both pull is m...     👏  \n",
              "1         a story book scene congrats to both of you     👏  \n",
              "2                         four arms more like for us     👏  \n",
              "3  here here an amazing team of reps delivering a...     👏  \n",
              "4                     they should do that to all cex     👏  "
            ],
            "text/html": [
              "\n",
              "  <div id=\"df-3bb3e9ce-d977-4a63-b355-47a5610ed342\">\n",
              "    <div class=\"colab-df-container\">\n",
              "      <div>\n",
              "<style scoped>\n",
              "    .dataframe tbody tr th:only-of-type {\n",
              "        vertical-align: middle;\n",
              "    }\n",
              "\n",
              "    .dataframe tbody tr th {\n",
              "        vertical-align: top;\n",
              "    }\n",
              "\n",
              "    .dataframe thead th {\n",
              "        text-align: right;\n",
              "    }\n",
              "</style>\n",
              "<table border=\"1\" class=\"dataframe\">\n",
              "  <thead>\n",
              "    <tr style=\"text-align: right;\">\n",
              "      <th></th>\n",
              "      <th>index</th>\n",
              "      <th>id</th>\n",
              "      <th>time</th>\n",
              "      <th>tweets</th>\n",
              "      <th>emoji</th>\n",
              "    </tr>\n",
              "  </thead>\n",
              "  <tbody>\n",
              "    <tr>\n",
              "      <th>0</th>\n",
              "      <td>0</td>\n",
              "      <td>1593507164559056897</td>\n",
              "      <td>2022-11-18 07:31:28</td>\n",
              "      <td>love to see it the numbers they both pull is m...</td>\n",
              "      <td>👏</td>\n",
              "    </tr>\n",
              "    <tr>\n",
              "      <th>1</th>\n",
              "      <td>3</td>\n",
              "      <td>1593507132296527873</td>\n",
              "      <td>2022-11-18 07:31:20</td>\n",
              "      <td>a story book scene congrats to both of you</td>\n",
              "      <td>👏</td>\n",
              "    </tr>\n",
              "    <tr>\n",
              "      <th>2</th>\n",
              "      <td>5</td>\n",
              "      <td>1593507124596084736</td>\n",
              "      <td>2022-11-18 07:31:19</td>\n",
              "      <td>four arms more like for us</td>\n",
              "      <td>👏</td>\n",
              "    </tr>\n",
              "    <tr>\n",
              "      <th>3</th>\n",
              "      <td>7</td>\n",
              "      <td>1593507111023034369</td>\n",
              "      <td>2022-11-18 07:31:15</td>\n",
              "      <td>here here an amazing team of reps delivering a...</td>\n",
              "      <td>👏</td>\n",
              "    </tr>\n",
              "    <tr>\n",
              "      <th>4</th>\n",
              "      <td>8</td>\n",
              "      <td>1593507062893641728</td>\n",
              "      <td>2022-11-18 07:31:04</td>\n",
              "      <td>they should do that to all cex</td>\n",
              "      <td>👏</td>\n",
              "    </tr>\n",
              "  </tbody>\n",
              "</table>\n",
              "</div>\n",
              "      <button class=\"colab-df-convert\" onclick=\"convertToInteractive('df-3bb3e9ce-d977-4a63-b355-47a5610ed342')\"\n",
              "              title=\"Convert this dataframe to an interactive table.\"\n",
              "              style=\"display:none;\">\n",
              "        \n",
              "  <svg xmlns=\"http://www.w3.org/2000/svg\" height=\"24px\"viewBox=\"0 0 24 24\"\n",
              "       width=\"24px\">\n",
              "    <path d=\"M0 0h24v24H0V0z\" fill=\"none\"/>\n",
              "    <path d=\"M18.56 5.44l.94 2.06.94-2.06 2.06-.94-2.06-.94-.94-2.06-.94 2.06-2.06.94zm-11 1L8.5 8.5l.94-2.06 2.06-.94-2.06-.94L8.5 2.5l-.94 2.06-2.06.94zm10 10l.94 2.06.94-2.06 2.06-.94-2.06-.94-.94-2.06-.94 2.06-2.06.94z\"/><path d=\"M17.41 7.96l-1.37-1.37c-.4-.4-.92-.59-1.43-.59-.52 0-1.04.2-1.43.59L10.3 9.45l-7.72 7.72c-.78.78-.78 2.05 0 2.83L4 21.41c.39.39.9.59 1.41.59.51 0 1.02-.2 1.41-.59l7.78-7.78 2.81-2.81c.8-.78.8-2.07 0-2.86zM5.41 20L4 18.59l7.72-7.72 1.47 1.35L5.41 20z\"/>\n",
              "  </svg>\n",
              "      </button>\n",
              "      \n",
              "  <style>\n",
              "    .colab-df-container {\n",
              "      display:flex;\n",
              "      flex-wrap:wrap;\n",
              "      gap: 12px;\n",
              "    }\n",
              "\n",
              "    .colab-df-convert {\n",
              "      background-color: #E8F0FE;\n",
              "      border: none;\n",
              "      border-radius: 50%;\n",
              "      cursor: pointer;\n",
              "      display: none;\n",
              "      fill: #1967D2;\n",
              "      height: 32px;\n",
              "      padding: 0 0 0 0;\n",
              "      width: 32px;\n",
              "    }\n",
              "\n",
              "    .colab-df-convert:hover {\n",
              "      background-color: #E2EBFA;\n",
              "      box-shadow: 0px 1px 2px rgba(60, 64, 67, 0.3), 0px 1px 3px 1px rgba(60, 64, 67, 0.15);\n",
              "      fill: #174EA6;\n",
              "    }\n",
              "\n",
              "    [theme=dark] .colab-df-convert {\n",
              "      background-color: #3B4455;\n",
              "      fill: #D2E3FC;\n",
              "    }\n",
              "\n",
              "    [theme=dark] .colab-df-convert:hover {\n",
              "      background-color: #434B5C;\n",
              "      box-shadow: 0px 1px 3px 1px rgba(0, 0, 0, 0.15);\n",
              "      filter: drop-shadow(0px 1px 2px rgba(0, 0, 0, 0.3));\n",
              "      fill: #FFFFFF;\n",
              "    }\n",
              "  </style>\n",
              "\n",
              "      <script>\n",
              "        const buttonEl =\n",
              "          document.querySelector('#df-3bb3e9ce-d977-4a63-b355-47a5610ed342 button.colab-df-convert');\n",
              "        buttonEl.style.display =\n",
              "          google.colab.kernel.accessAllowed ? 'block' : 'none';\n",
              "\n",
              "        async function convertToInteractive(key) {\n",
              "          const element = document.querySelector('#df-3bb3e9ce-d977-4a63-b355-47a5610ed342');\n",
              "          const dataTable =\n",
              "            await google.colab.kernel.invokeFunction('convertToInteractive',\n",
              "                                                     [key], {});\n",
              "          if (!dataTable) return;\n",
              "\n",
              "          const docLinkHtml = 'Like what you see? Visit the ' +\n",
              "            '<a target=\"_blank\" href=https://colab.research.google.com/notebooks/data_table.ipynb>data table notebook</a>'\n",
              "            + ' to learn more about interactive tables.';\n",
              "          element.innerHTML = '';\n",
              "          dataTable['output_type'] = 'display_data';\n",
              "          await google.colab.output.renderOutput(dataTable, element);\n",
              "          const docLink = document.createElement('div');\n",
              "          docLink.innerHTML = docLinkHtml;\n",
              "          element.appendChild(docLink);\n",
              "        }\n",
              "      </script>\n",
              "    </div>\n",
              "  </div>\n",
              "  "
            ]
          },
          "metadata": {},
          "execution_count": 38
        }
      ]
    },
    {
      "cell_type": "code",
      "source": [
        "Emojimotion_df.info()"
      ],
      "metadata": {
        "colab": {
          "base_uri": "https://localhost:8080/"
        },
        "id": "1HoI9XL7Ejr_",
        "outputId": "1f432ded-ca98-4588-a938-3762cb17ec49"
      },
      "execution_count": 39,
      "outputs": [
        {
          "output_type": "stream",
          "name": "stdout",
          "text": [
            "<class 'pandas.core.frame.DataFrame'>\n",
            "RangeIndex: 212295 entries, 0 to 212294\n",
            "Data columns (total 5 columns):\n",
            " #   Column  Non-Null Count   Dtype \n",
            "---  ------  --------------   ----- \n",
            " 0   index   212295 non-null  int64 \n",
            " 1   id      212295 non-null  object\n",
            " 2   time    212295 non-null  object\n",
            " 3   tweets  212295 non-null  object\n",
            " 4   emoji   212295 non-null  object\n",
            "dtypes: int64(1), object(4)\n",
            "memory usage: 8.1+ MB\n"
          ]
        }
      ]
    },
    {
      "cell_type": "code",
      "source": [
        "#write the finnal dataframe to a csv file\n",
        "Emojimotion_df.to_csv('cleaned_tweets.csv',index=False)"
      ],
      "metadata": {
        "id": "7wN0zUilH4Kg"
      },
      "execution_count": 69,
      "outputs": []
    },
    {
      "cell_type": "code",
      "source": [
        "data = Emojimotion_df.groupby(\"emoji\").size().sort_values(ascending = False)\n",
        "data"
      ],
      "metadata": {
        "colab": {
          "base_uri": "https://localhost:8080/"
        },
        "id": "zPzkCrsxU0zi",
        "outputId": "cce48272-fc64-4ddd-9e53-fe9eeff41155"
      },
      "execution_count": 40,
      "outputs": [
        {
          "output_type": "execute_result",
          "data": {
            "text/plain": [
              "emoji\n",
              "➖     4563\n",
              "💓     4453\n",
              "👇     4245\n",
              "💩     4237\n",
              "😕     4218\n",
              "🎧     4182\n",
              "▶️    4167\n",
              "🔴     4151\n",
              "😬     4150\n",
              "😠     4106\n",
              "💰     4106\n",
              "💀     4095\n",
              "😡     4089\n",
              "😓     4079\n",
              "📍     4077\n",
              "😔     4029\n",
              "😣     4019\n",
              "😫     4014\n",
              "😞     4005\n",
              "😝     3936\n",
              "☁️    3900\n",
              "😄     3870\n",
              "😮     3869\n",
              "❗️    3773\n",
              "😳     3764\n",
              "⚡️    3681\n",
              "😹     3676\n",
              "💛     3644\n",
              "😌     3589\n",
              "💃     3577\n",
              "😃     3545\n",
              "💙     3506\n",
              "✊     3492\n",
              "💖     3478\n",
              "✅     3428\n",
              "✔️    3367\n",
              "🙏     3339\n",
              "🌷     3338\n",
              "😋     3260\n",
              "😚     3194\n",
              "🎁     3169\n",
              "✨     3164\n",
              "👑     3137\n",
              "💕     3075\n",
              "💗     3072\n",
              "🌈     3063\n",
              "💚     3050\n",
              "😘     3044\n",
              "💜     3037\n",
              "💘     3015\n",
              "💋     3014\n",
              "🍃     2998\n",
              "🌹     2809\n",
              "😻     2781\n",
              "🌺     2775\n",
              "👅     2745\n",
              "👌     2661\n",
              "⬅️    2545\n",
              "👏     2534\n",
              "☕️    2396\n",
              "dtype: int64"
            ]
          },
          "metadata": {},
          "execution_count": 40
        }
      ]
    }
  ]
}