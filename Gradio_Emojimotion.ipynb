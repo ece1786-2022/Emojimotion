{
  "nbformat": 4,
  "nbformat_minor": 0,
  "metadata": {
    "colab": {
      "provenance": []
    },
    "kernelspec": {
      "name": "python3",
      "display_name": "Python 3"
    },
    "language_info": {
      "name": "python"
    },
    "gpuClass": "standard"
  },
  "cells": [
    {
      "cell_type": "code",
      "source": [
        "pip install transformers"
      ],
      "metadata": {
        "id": "L8oBp9RqYe0f",
        "colab": {
          "base_uri": "https://localhost:8080/"
        },
        "outputId": "b6f6b99e-5493-41e8-d933-8b6e23557e73"
      },
      "execution_count": 1,
      "outputs": [
        {
          "output_type": "stream",
          "name": "stdout",
          "text": [
            "Looking in indexes: https://pypi.org/simple, https://us-python.pkg.dev/colab-wheels/public/simple/\n",
            "Requirement already satisfied: transformers in /usr/local/lib/python3.8/dist-packages (4.25.1)\n",
            "Requirement already satisfied: huggingface-hub<1.0,>=0.10.0 in /usr/local/lib/python3.8/dist-packages (from transformers) (0.11.1)\n",
            "Requirement already satisfied: tokenizers!=0.11.3,<0.14,>=0.11.1 in /usr/local/lib/python3.8/dist-packages (from transformers) (0.13.2)\n",
            "Requirement already satisfied: numpy>=1.17 in /usr/local/lib/python3.8/dist-packages (from transformers) (1.21.6)\n",
            "Requirement already satisfied: regex!=2019.12.17 in /usr/local/lib/python3.8/dist-packages (from transformers) (2022.6.2)\n",
            "Requirement already satisfied: filelock in /usr/local/lib/python3.8/dist-packages (from transformers) (3.8.0)\n",
            "Requirement already satisfied: requests in /usr/local/lib/python3.8/dist-packages (from transformers) (2.23.0)\n",
            "Requirement already satisfied: tqdm>=4.27 in /usr/local/lib/python3.8/dist-packages (from transformers) (4.64.1)\n",
            "Requirement already satisfied: packaging>=20.0 in /usr/local/lib/python3.8/dist-packages (from transformers) (21.3)\n",
            "Requirement already satisfied: pyyaml>=5.1 in /usr/local/lib/python3.8/dist-packages (from transformers) (6.0)\n",
            "Requirement already satisfied: typing-extensions>=3.7.4.3 in /usr/local/lib/python3.8/dist-packages (from huggingface-hub<1.0,>=0.10.0->transformers) (4.1.1)\n",
            "Requirement already satisfied: pyparsing!=3.0.5,>=2.0.2 in /usr/local/lib/python3.8/dist-packages (from packaging>=20.0->transformers) (3.0.9)\n",
            "Requirement already satisfied: idna<3,>=2.5 in /usr/local/lib/python3.8/dist-packages (from requests->transformers) (2.10)\n",
            "Requirement already satisfied: chardet<4,>=3.0.2 in /usr/local/lib/python3.8/dist-packages (from requests->transformers) (3.0.4)\n",
            "Requirement already satisfied: urllib3!=1.25.0,!=1.25.1,<1.26,>=1.21.1 in /usr/local/lib/python3.8/dist-packages (from requests->transformers) (1.25.11)\n",
            "Requirement already satisfied: certifi>=2017.4.17 in /usr/local/lib/python3.8/dist-packages (from requests->transformers) (2022.9.24)\n"
          ]
        }
      ]
    },
    {
      "cell_type": "code",
      "execution_count": 2,
      "metadata": {
        "colab": {
          "base_uri": "https://localhost:8080/"
        },
        "id": "cnGd7JD-CeoA",
        "outputId": "da04bb0a-8386-49ce-b271-965f5ff6992f"
      },
      "outputs": [
        {
          "output_type": "stream",
          "name": "stdout",
          "text": [
            "Looking in indexes: https://pypi.org/simple, https://us-python.pkg.dev/colab-wheels/public/simple/\n",
            "Requirement already satisfied: gradio in /usr/local/lib/python3.8/dist-packages (3.12.0)\n",
            "Requirement already satisfied: pydantic in /usr/local/lib/python3.8/dist-packages (from gradio) (1.10.2)\n",
            "Requirement already satisfied: aiohttp in /usr/local/lib/python3.8/dist-packages (from gradio) (3.8.3)\n",
            "Requirement already satisfied: matplotlib in /usr/local/lib/python3.8/dist-packages (from gradio) (3.2.2)\n",
            "Requirement already satisfied: pyyaml in /usr/local/lib/python3.8/dist-packages (from gradio) (6.0)\n",
            "Requirement already satisfied: h11<0.13,>=0.11 in /usr/local/lib/python3.8/dist-packages (from gradio) (0.12.0)\n",
            "Requirement already satisfied: numpy in /usr/local/lib/python3.8/dist-packages (from gradio) (1.21.6)\n",
            "Requirement already satisfied: requests in /usr/local/lib/python3.8/dist-packages (from gradio) (2.23.0)\n",
            "Requirement already satisfied: websockets>=10.0 in /usr/local/lib/python3.8/dist-packages (from gradio) (10.4)\n",
            "Requirement already satisfied: paramiko in /usr/local/lib/python3.8/dist-packages (from gradio) (2.12.0)\n",
            "Requirement already satisfied: python-multipart in /usr/local/lib/python3.8/dist-packages (from gradio) (0.0.5)\n",
            "Requirement already satisfied: jinja2 in /usr/local/lib/python3.8/dist-packages (from gradio) (2.11.3)\n",
            "Requirement already satisfied: pycryptodome in /usr/local/lib/python3.8/dist-packages (from gradio) (3.16.0)\n",
            "Requirement already satisfied: pydub in /usr/local/lib/python3.8/dist-packages (from gradio) (0.25.1)\n",
            "Requirement already satisfied: ffmpy in /usr/local/lib/python3.8/dist-packages (from gradio) (0.3.0)\n",
            "Requirement already satisfied: fsspec in /usr/local/lib/python3.8/dist-packages (from gradio) (2022.11.0)\n",
            "Requirement already satisfied: orjson in /usr/local/lib/python3.8/dist-packages (from gradio) (3.8.2)\n",
            "Requirement already satisfied: httpx in /usr/local/lib/python3.8/dist-packages (from gradio) (0.23.1)\n",
            "Requirement already satisfied: pandas in /usr/local/lib/python3.8/dist-packages (from gradio) (1.3.5)\n",
            "Requirement already satisfied: pillow in /usr/local/lib/python3.8/dist-packages (from gradio) (7.1.2)\n",
            "Requirement already satisfied: uvicorn in /usr/local/lib/python3.8/dist-packages (from gradio) (0.20.0)\n",
            "Requirement already satisfied: markdown-it-py[linkify,plugins] in /usr/local/lib/python3.8/dist-packages (from gradio) (2.1.0)\n",
            "Requirement already satisfied: fastapi in /usr/local/lib/python3.8/dist-packages (from gradio) (0.88.0)\n",
            "Requirement already satisfied: attrs>=17.3.0 in /usr/local/lib/python3.8/dist-packages (from aiohttp->gradio) (22.1.0)\n",
            "Requirement already satisfied: async-timeout<5.0,>=4.0.0a3 in /usr/local/lib/python3.8/dist-packages (from aiohttp->gradio) (4.0.2)\n",
            "Requirement already satisfied: charset-normalizer<3.0,>=2.0 in /usr/local/lib/python3.8/dist-packages (from aiohttp->gradio) (2.1.1)\n",
            "Requirement already satisfied: frozenlist>=1.1.1 in /usr/local/lib/python3.8/dist-packages (from aiohttp->gradio) (1.3.3)\n",
            "Requirement already satisfied: yarl<2.0,>=1.0 in /usr/local/lib/python3.8/dist-packages (from aiohttp->gradio) (1.8.1)\n",
            "Requirement already satisfied: multidict<7.0,>=4.5 in /usr/local/lib/python3.8/dist-packages (from aiohttp->gradio) (6.0.2)\n",
            "Requirement already satisfied: aiosignal>=1.1.2 in /usr/local/lib/python3.8/dist-packages (from aiohttp->gradio) (1.3.1)\n",
            "Requirement already satisfied: idna>=2.0 in /usr/local/lib/python3.8/dist-packages (from yarl<2.0,>=1.0->aiohttp->gradio) (2.10)\n",
            "Requirement already satisfied: starlette==0.22.0 in /usr/local/lib/python3.8/dist-packages (from fastapi->gradio) (0.22.0)\n",
            "Requirement already satisfied: typing-extensions>=3.10.0 in /usr/local/lib/python3.8/dist-packages (from starlette==0.22.0->fastapi->gradio) (4.1.1)\n",
            "Requirement already satisfied: anyio<5,>=3.4.0 in /usr/local/lib/python3.8/dist-packages (from starlette==0.22.0->fastapi->gradio) (3.6.2)\n",
            "Requirement already satisfied: sniffio>=1.1 in /usr/local/lib/python3.8/dist-packages (from anyio<5,>=3.4.0->starlette==0.22.0->fastapi->gradio) (1.3.0)\n",
            "Requirement already satisfied: rfc3986[idna2008]<2,>=1.3 in /usr/local/lib/python3.8/dist-packages (from httpx->gradio) (1.5.0)\n",
            "Requirement already satisfied: certifi in /usr/local/lib/python3.8/dist-packages (from httpx->gradio) (2022.9.24)\n",
            "Requirement already satisfied: httpcore<0.17.0,>=0.15.0 in /usr/local/lib/python3.8/dist-packages (from httpx->gradio) (0.15.0)\n",
            "Requirement already satisfied: MarkupSafe>=0.23 in /usr/local/lib/python3.8/dist-packages (from jinja2->gradio) (2.0.1)\n",
            "Requirement already satisfied: mdurl~=0.1 in /usr/local/lib/python3.8/dist-packages (from markdown-it-py[linkify,plugins]->gradio) (0.1.2)\n",
            "Requirement already satisfied: mdit-py-plugins in /usr/local/lib/python3.8/dist-packages (from markdown-it-py[linkify,plugins]->gradio) (0.3.1)\n",
            "Requirement already satisfied: linkify-it-py~=1.0 in /usr/local/lib/python3.8/dist-packages (from markdown-it-py[linkify,plugins]->gradio) (1.0.3)\n",
            "Requirement already satisfied: uc-micro-py in /usr/local/lib/python3.8/dist-packages (from linkify-it-py~=1.0->markdown-it-py[linkify,plugins]->gradio) (1.0.1)\n",
            "Requirement already satisfied: cycler>=0.10 in /usr/local/lib/python3.8/dist-packages (from matplotlib->gradio) (0.11.0)\n",
            "Requirement already satisfied: kiwisolver>=1.0.1 in /usr/local/lib/python3.8/dist-packages (from matplotlib->gradio) (1.4.4)\n",
            "Requirement already satisfied: pyparsing!=2.0.4,!=2.1.2,!=2.1.6,>=2.0.1 in /usr/local/lib/python3.8/dist-packages (from matplotlib->gradio) (3.0.9)\n",
            "Requirement already satisfied: python-dateutil>=2.1 in /usr/local/lib/python3.8/dist-packages (from matplotlib->gradio) (2.8.2)\n",
            "Requirement already satisfied: six>=1.5 in /usr/local/lib/python3.8/dist-packages (from python-dateutil>=2.1->matplotlib->gradio) (1.15.0)\n",
            "Requirement already satisfied: pytz>=2017.3 in /usr/local/lib/python3.8/dist-packages (from pandas->gradio) (2022.6)\n",
            "Requirement already satisfied: pynacl>=1.0.1 in /usr/local/lib/python3.8/dist-packages (from paramiko->gradio) (1.5.0)\n",
            "Requirement already satisfied: bcrypt>=3.1.3 in /usr/local/lib/python3.8/dist-packages (from paramiko->gradio) (4.0.1)\n",
            "Requirement already satisfied: cryptography>=2.5 in /usr/local/lib/python3.8/dist-packages (from paramiko->gradio) (38.0.4)\n",
            "Requirement already satisfied: cffi>=1.12 in /usr/local/lib/python3.8/dist-packages (from cryptography>=2.5->paramiko->gradio) (1.15.1)\n",
            "Requirement already satisfied: pycparser in /usr/local/lib/python3.8/dist-packages (from cffi>=1.12->cryptography>=2.5->paramiko->gradio) (2.21)\n",
            "Requirement already satisfied: urllib3!=1.25.0,!=1.25.1,<1.26,>=1.21.1 in /usr/local/lib/python3.8/dist-packages (from requests->gradio) (1.25.11)\n",
            "Requirement already satisfied: chardet<4,>=3.0.2 in /usr/local/lib/python3.8/dist-packages (from requests->gradio) (3.0.4)\n",
            "Requirement already satisfied: click>=7.0 in /usr/local/lib/python3.8/dist-packages (from uvicorn->gradio) (7.1.2)\n"
          ]
        }
      ],
      "source": [
        "pip install gradio"
      ]
    },
    {
      "cell_type": "code",
      "source": [
        "pip install datasets"
      ],
      "metadata": {
        "colab": {
          "base_uri": "https://localhost:8080/"
        },
        "id": "GrPndv20hzC-",
        "outputId": "30fd000d-7d45-4789-e6dd-b719b20f9aa9"
      },
      "execution_count": 3,
      "outputs": [
        {
          "output_type": "stream",
          "name": "stdout",
          "text": [
            "Looking in indexes: https://pypi.org/simple, https://us-python.pkg.dev/colab-wheels/public/simple/\n",
            "Requirement already satisfied: datasets in /usr/local/lib/python3.8/dist-packages (2.7.1)\n",
            "Requirement already satisfied: xxhash in /usr/local/lib/python3.8/dist-packages (from datasets) (3.1.0)\n",
            "Requirement already satisfied: pyyaml>=5.1 in /usr/local/lib/python3.8/dist-packages (from datasets) (6.0)\n",
            "Requirement already satisfied: fsspec[http]>=2021.11.1 in /usr/local/lib/python3.8/dist-packages (from datasets) (2022.11.0)\n",
            "Requirement already satisfied: requests>=2.19.0 in /usr/local/lib/python3.8/dist-packages (from datasets) (2.23.0)\n",
            "Requirement already satisfied: numpy>=1.17 in /usr/local/lib/python3.8/dist-packages (from datasets) (1.21.6)\n",
            "Requirement already satisfied: pyarrow>=6.0.0 in /usr/local/lib/python3.8/dist-packages (from datasets) (9.0.0)\n",
            "Requirement already satisfied: aiohttp in /usr/local/lib/python3.8/dist-packages (from datasets) (3.8.3)\n",
            "Requirement already satisfied: multiprocess in /usr/local/lib/python3.8/dist-packages (from datasets) (0.70.14)\n",
            "Requirement already satisfied: dill<0.3.7 in /usr/local/lib/python3.8/dist-packages (from datasets) (0.3.6)\n",
            "Requirement already satisfied: packaging in /usr/local/lib/python3.8/dist-packages (from datasets) (21.3)\n",
            "Requirement already satisfied: pandas in /usr/local/lib/python3.8/dist-packages (from datasets) (1.3.5)\n",
            "Requirement already satisfied: responses<0.19 in /usr/local/lib/python3.8/dist-packages (from datasets) (0.18.0)\n",
            "Requirement already satisfied: tqdm>=4.62.1 in /usr/local/lib/python3.8/dist-packages (from datasets) (4.64.1)\n",
            "Requirement already satisfied: huggingface-hub<1.0.0,>=0.2.0 in /usr/local/lib/python3.8/dist-packages (from datasets) (0.11.1)\n",
            "Requirement already satisfied: charset-normalizer<3.0,>=2.0 in /usr/local/lib/python3.8/dist-packages (from aiohttp->datasets) (2.1.1)\n",
            "Requirement already satisfied: attrs>=17.3.0 in /usr/local/lib/python3.8/dist-packages (from aiohttp->datasets) (22.1.0)\n",
            "Requirement already satisfied: async-timeout<5.0,>=4.0.0a3 in /usr/local/lib/python3.8/dist-packages (from aiohttp->datasets) (4.0.2)\n",
            "Requirement already satisfied: aiosignal>=1.1.2 in /usr/local/lib/python3.8/dist-packages (from aiohttp->datasets) (1.3.1)\n",
            "Requirement already satisfied: multidict<7.0,>=4.5 in /usr/local/lib/python3.8/dist-packages (from aiohttp->datasets) (6.0.2)\n",
            "Requirement already satisfied: frozenlist>=1.1.1 in /usr/local/lib/python3.8/dist-packages (from aiohttp->datasets) (1.3.3)\n",
            "Requirement already satisfied: yarl<2.0,>=1.0 in /usr/local/lib/python3.8/dist-packages (from aiohttp->datasets) (1.8.1)\n",
            "Requirement already satisfied: typing-extensions>=3.7.4.3 in /usr/local/lib/python3.8/dist-packages (from huggingface-hub<1.0.0,>=0.2.0->datasets) (4.1.1)\n",
            "Requirement already satisfied: filelock in /usr/local/lib/python3.8/dist-packages (from huggingface-hub<1.0.0,>=0.2.0->datasets) (3.8.0)\n",
            "Requirement already satisfied: pyparsing!=3.0.5,>=2.0.2 in /usr/local/lib/python3.8/dist-packages (from packaging->datasets) (3.0.9)\n",
            "Requirement already satisfied: urllib3!=1.25.0,!=1.25.1,<1.26,>=1.21.1 in /usr/local/lib/python3.8/dist-packages (from requests>=2.19.0->datasets) (1.25.11)\n",
            "Requirement already satisfied: idna<3,>=2.5 in /usr/local/lib/python3.8/dist-packages (from requests>=2.19.0->datasets) (2.10)\n",
            "Requirement already satisfied: chardet<4,>=3.0.2 in /usr/local/lib/python3.8/dist-packages (from requests>=2.19.0->datasets) (3.0.4)\n",
            "Requirement already satisfied: certifi>=2017.4.17 in /usr/local/lib/python3.8/dist-packages (from requests>=2.19.0->datasets) (2022.9.24)\n",
            "Requirement already satisfied: pytz>=2017.3 in /usr/local/lib/python3.8/dist-packages (from pandas->datasets) (2022.6)\n",
            "Requirement already satisfied: python-dateutil>=2.7.3 in /usr/local/lib/python3.8/dist-packages (from pandas->datasets) (2.8.2)\n",
            "Requirement already satisfied: six>=1.5 in /usr/local/lib/python3.8/dist-packages (from python-dateutil>=2.7.3->pandas->datasets) (1.15.0)\n"
          ]
        }
      ]
    },
    {
      "cell_type": "code",
      "source": [
        "import pandas as pd\n",
        "import re\n",
        "from nltk import flatten\n",
        "import numpy as np\n",
        "import pandas as pd\n",
        "import numpy as np\n",
        "import torch\n",
        "import torchtext\n",
        "from torchtext import data\n",
        "import torch.optim as optim\n",
        "import tensorflow as tf\n",
        "import argparse\n",
        "import os\n",
        "import torch.nn.functional as F\n",
        "import torch.nn as nn\n",
        "import logging\n",
        "import matplotlib.pyplot as plt\n",
        "\n",
        "import gradio as gr\n",
        "np.random.seed(43)\n",
        "torch.manual_seed(43)"
      ],
      "metadata": {
        "colab": {
          "base_uri": "https://localhost:8080/"
        },
        "id": "qK_OaqdnCsOa",
        "outputId": "4e3cfd42-635f-453a-bbb6-8f696b712054"
      },
      "execution_count": 4,
      "outputs": [
        {
          "output_type": "execute_result",
          "data": {
            "text/plain": [
              "<torch._C.Generator at 0x7f0e14261f90>"
            ]
          },
          "metadata": {},
          "execution_count": 4
        }
      ]
    },
    {
      "cell_type": "code",
      "source": [
        "#glove=torchtext.vocab.GloVe(name='840B',dim=300)"
      ],
      "metadata": {
        "id": "1NkiUmmCCvvp"
      },
      "execution_count": 5,
      "outputs": []
    },
    {
      "cell_type": "code",
      "source": [
        "# class Baseline(nn.Module):#Baseline model\n",
        "\n",
        "#     def __init__(self, embedding_dim, vocab):\n",
        "#         super(Baseline, self).__init__()\n",
        "#         #100 vectors for each word \n",
        "#         #embedding.shape=[embedding dim,glove.len]\n",
        "#         self.embedding = nn.Embedding.from_pretrained(vocab.vectors)\n",
        "#         self.fc = nn.Linear(embedding_dim, 60)\n",
        "\n",
        "#     def forward(self, x, len=None):\n",
        "#         #x has shape [sentence length, batch size]\n",
        "#         embedded = self.embedding(x)#embedded.shape=[sentence len, batch size,embedding size]\n",
        "#         # print(\"embedded\",embedded.shape)\n",
        "#         average = embedded.mean(0) # average.shape=[batch size, embedding size]\n",
        "#         # print(\"average\",average.shape)\n",
        "#         prediction = self.fc(average)\n",
        "#         # print(\"prediction\",prediction.shape)\n",
        "#         # prediction=torch.nn.Softmax()(prediction)\n",
        "#         #prediction=F.log_softmax(prediction,dim=1)\n",
        "#         # print(\"lof sofamax\",prediction.shape)\n",
        "#         return prediction"
      ],
      "metadata": {
        "id": "PN6MAVwyDc18"
      },
      "execution_count": null,
      "outputs": []
    },
    {
      "cell_type": "code",
      "source": [],
      "metadata": {
        "id": "szA3qPr0fRdv"
      },
      "execution_count": 8,
      "outputs": []
    },
    {
      "cell_type": "code",
      "source": [
        "#model = Baseline(300,glove)\n",
        "# model.load_state_dict(torch.load('/content/drive/MyDrive/AAA_1786_model_baseline.pt',map_location=torch.device('cpu')))\n",
        "# model.eval()"
      ],
      "metadata": {
        "colab": {
          "base_uri": "https://localhost:8080/"
        },
        "id": "uA3rN0BYDij1",
        "outputId": "b1348c6e-a7d6-4373-ef67-49e776c77e8a"
      },
      "execution_count": null,
      "outputs": [
        {
          "output_type": "execute_result",
          "data": {
            "text/plain": [
              "Baseline(\n",
              "  (embedding): Embedding(2196017, 300)\n",
              "  (fc): Linear(in_features=300, out_features=60, bias=True)\n",
              ")"
            ]
          },
          "metadata": {},
          "execution_count": 7
        }
      ]
    },
    {
      "cell_type": "code",
      "source": [
        "emotion_score = pd.read_csv('emotion.csv')\n",
        "emotion_score.head()"
      ],
      "metadata": {
        "colab": {
          "base_uri": "https://localhost:8080/",
          "height": 206
        },
        "id": "V7CBNoWrDlSE",
        "outputId": "65a55004-0d5c-4277-d880-76d18fbca1b7"
      },
      "execution_count": 107,
      "outputs": [
        {
          "output_type": "execute_result",
          "data": {
            "text/plain": [
              "   Unnamed: 0 emoji  emoji_num  anger  anticipation  disgust  fear   joy  \\\n",
              "0           0     👏          0   0.08          0.39     0.08  0.00  0.64   \n",
              "1           1     💖          1   0.00          0.33     0.00  0.00  0.89   \n",
              "2           2     🌹          2   0.00          0.36     0.00  0.00  0.56   \n",
              "3           3     ✅          3   0.00          0.31     0.00  0.00  0.19   \n",
              "4           4     😔          4   0.25          0.22     0.31  0.28  0.00   \n",
              "\n",
              "   sadness  surprise  trust  \n",
              "0     0.00      0.25   0.53  \n",
              "1     0.00      0.25   0.53  \n",
              "2     0.00      0.11   0.72  \n",
              "3     0.00      0.00   0.33  \n",
              "4     0.72      0.19   0.14  "
            ],
            "text/html": [
              "\n",
              "  <div id=\"df-550c7bd0-d2d7-4c51-aecf-6a563db53aa9\">\n",
              "    <div class=\"colab-df-container\">\n",
              "      <div>\n",
              "<style scoped>\n",
              "    .dataframe tbody tr th:only-of-type {\n",
              "        vertical-align: middle;\n",
              "    }\n",
              "\n",
              "    .dataframe tbody tr th {\n",
              "        vertical-align: top;\n",
              "    }\n",
              "\n",
              "    .dataframe thead th {\n",
              "        text-align: right;\n",
              "    }\n",
              "</style>\n",
              "<table border=\"1\" class=\"dataframe\">\n",
              "  <thead>\n",
              "    <tr style=\"text-align: right;\">\n",
              "      <th></th>\n",
              "      <th>Unnamed: 0</th>\n",
              "      <th>emoji</th>\n",
              "      <th>emoji_num</th>\n",
              "      <th>anger</th>\n",
              "      <th>anticipation</th>\n",
              "      <th>disgust</th>\n",
              "      <th>fear</th>\n",
              "      <th>joy</th>\n",
              "      <th>sadness</th>\n",
              "      <th>surprise</th>\n",
              "      <th>trust</th>\n",
              "    </tr>\n",
              "  </thead>\n",
              "  <tbody>\n",
              "    <tr>\n",
              "      <th>0</th>\n",
              "      <td>0</td>\n",
              "      <td>👏</td>\n",
              "      <td>0</td>\n",
              "      <td>0.08</td>\n",
              "      <td>0.39</td>\n",
              "      <td>0.08</td>\n",
              "      <td>0.00</td>\n",
              "      <td>0.64</td>\n",
              "      <td>0.00</td>\n",
              "      <td>0.25</td>\n",
              "      <td>0.53</td>\n",
              "    </tr>\n",
              "    <tr>\n",
              "      <th>1</th>\n",
              "      <td>1</td>\n",
              "      <td>💖</td>\n",
              "      <td>1</td>\n",
              "      <td>0.00</td>\n",
              "      <td>0.33</td>\n",
              "      <td>0.00</td>\n",
              "      <td>0.00</td>\n",
              "      <td>0.89</td>\n",
              "      <td>0.00</td>\n",
              "      <td>0.25</td>\n",
              "      <td>0.53</td>\n",
              "    </tr>\n",
              "    <tr>\n",
              "      <th>2</th>\n",
              "      <td>2</td>\n",
              "      <td>🌹</td>\n",
              "      <td>2</td>\n",
              "      <td>0.00</td>\n",
              "      <td>0.36</td>\n",
              "      <td>0.00</td>\n",
              "      <td>0.00</td>\n",
              "      <td>0.56</td>\n",
              "      <td>0.00</td>\n",
              "      <td>0.11</td>\n",
              "      <td>0.72</td>\n",
              "    </tr>\n",
              "    <tr>\n",
              "      <th>3</th>\n",
              "      <td>3</td>\n",
              "      <td>✅</td>\n",
              "      <td>3</td>\n",
              "      <td>0.00</td>\n",
              "      <td>0.31</td>\n",
              "      <td>0.00</td>\n",
              "      <td>0.00</td>\n",
              "      <td>0.19</td>\n",
              "      <td>0.00</td>\n",
              "      <td>0.00</td>\n",
              "      <td>0.33</td>\n",
              "    </tr>\n",
              "    <tr>\n",
              "      <th>4</th>\n",
              "      <td>4</td>\n",
              "      <td>😔</td>\n",
              "      <td>4</td>\n",
              "      <td>0.25</td>\n",
              "      <td>0.22</td>\n",
              "      <td>0.31</td>\n",
              "      <td>0.28</td>\n",
              "      <td>0.00</td>\n",
              "      <td>0.72</td>\n",
              "      <td>0.19</td>\n",
              "      <td>0.14</td>\n",
              "    </tr>\n",
              "  </tbody>\n",
              "</table>\n",
              "</div>\n",
              "      <button class=\"colab-df-convert\" onclick=\"convertToInteractive('df-550c7bd0-d2d7-4c51-aecf-6a563db53aa9')\"\n",
              "              title=\"Convert this dataframe to an interactive table.\"\n",
              "              style=\"display:none;\">\n",
              "        \n",
              "  <svg xmlns=\"http://www.w3.org/2000/svg\" height=\"24px\"viewBox=\"0 0 24 24\"\n",
              "       width=\"24px\">\n",
              "    <path d=\"M0 0h24v24H0V0z\" fill=\"none\"/>\n",
              "    <path d=\"M18.56 5.44l.94 2.06.94-2.06 2.06-.94-2.06-.94-.94-2.06-.94 2.06-2.06.94zm-11 1L8.5 8.5l.94-2.06 2.06-.94-2.06-.94L8.5 2.5l-.94 2.06-2.06.94zm10 10l.94 2.06.94-2.06 2.06-.94-2.06-.94-.94-2.06-.94 2.06-2.06.94z\"/><path d=\"M17.41 7.96l-1.37-1.37c-.4-.4-.92-.59-1.43-.59-.52 0-1.04.2-1.43.59L10.3 9.45l-7.72 7.72c-.78.78-.78 2.05 0 2.83L4 21.41c.39.39.9.59 1.41.59.51 0 1.02-.2 1.41-.59l7.78-7.78 2.81-2.81c.8-.78.8-2.07 0-2.86zM5.41 20L4 18.59l7.72-7.72 1.47 1.35L5.41 20z\"/>\n",
              "  </svg>\n",
              "      </button>\n",
              "      \n",
              "  <style>\n",
              "    .colab-df-container {\n",
              "      display:flex;\n",
              "      flex-wrap:wrap;\n",
              "      gap: 12px;\n",
              "    }\n",
              "\n",
              "    .colab-df-convert {\n",
              "      background-color: #E8F0FE;\n",
              "      border: none;\n",
              "      border-radius: 50%;\n",
              "      cursor: pointer;\n",
              "      display: none;\n",
              "      fill: #1967D2;\n",
              "      height: 32px;\n",
              "      padding: 0 0 0 0;\n",
              "      width: 32px;\n",
              "    }\n",
              "\n",
              "    .colab-df-convert:hover {\n",
              "      background-color: #E2EBFA;\n",
              "      box-shadow: 0px 1px 2px rgba(60, 64, 67, 0.3), 0px 1px 3px 1px rgba(60, 64, 67, 0.15);\n",
              "      fill: #174EA6;\n",
              "    }\n",
              "\n",
              "    [theme=dark] .colab-df-convert {\n",
              "      background-color: #3B4455;\n",
              "      fill: #D2E3FC;\n",
              "    }\n",
              "\n",
              "    [theme=dark] .colab-df-convert:hover {\n",
              "      background-color: #434B5C;\n",
              "      box-shadow: 0px 1px 3px 1px rgba(0, 0, 0, 0.15);\n",
              "      filter: drop-shadow(0px 1px 2px rgba(0, 0, 0, 0.3));\n",
              "      fill: #FFFFFF;\n",
              "    }\n",
              "  </style>\n",
              "\n",
              "      <script>\n",
              "        const buttonEl =\n",
              "          document.querySelector('#df-550c7bd0-d2d7-4c51-aecf-6a563db53aa9 button.colab-df-convert');\n",
              "        buttonEl.style.display =\n",
              "          google.colab.kernel.accessAllowed ? 'block' : 'none';\n",
              "\n",
              "        async function convertToInteractive(key) {\n",
              "          const element = document.querySelector('#df-550c7bd0-d2d7-4c51-aecf-6a563db53aa9');\n",
              "          const dataTable =\n",
              "            await google.colab.kernel.invokeFunction('convertToInteractive',\n",
              "                                                     [key], {});\n",
              "          if (!dataTable) return;\n",
              "\n",
              "          const docLinkHtml = 'Like what you see? Visit the ' +\n",
              "            '<a target=\"_blank\" href=https://colab.research.google.com/notebooks/data_table.ipynb>data table notebook</a>'\n",
              "            + ' to learn more about interactive tables.';\n",
              "          element.innerHTML = '';\n",
              "          dataTable['output_type'] = 'display_data';\n",
              "          await google.colab.output.renderOutput(dataTable, element);\n",
              "          const docLink = document.createElement('div');\n",
              "          docLink.innerHTML = docLinkHtml;\n",
              "          element.appendChild(docLink);\n",
              "        }\n",
              "      </script>\n",
              "    </div>\n",
              "  </div>\n",
              "  "
            ]
          },
          "metadata": {},
          "execution_count": 107
        }
      ]
    },
    {
      "cell_type": "code",
      "source": [
        "emoji_dict={}\n",
        "keys = range(54)\n",
        "values = emotion_score['emoji']\n",
        "for i in keys:\n",
        "  emoji_dict[i]=values[i]\n",
        "print(emoji_dict)"
      ],
      "metadata": {
        "colab": {
          "base_uri": "https://localhost:8080/"
        },
        "id": "_XJbl5wADoNy",
        "outputId": "ba0cc635-14b4-4db1-8355-987cb26b0826"
      },
      "execution_count": 108,
      "outputs": [
        {
          "output_type": "stream",
          "name": "stdout",
          "text": [
            "{0: '👏', 1: '💖', 2: '🌹', 3: '✅', 4: '😔', 5: '💗', 6: '💙', 7: '😄', 8: '😘', 9: '😳', 10: '😋', 11: '🙏', 12: '👌', 13: '✨', 14: '😞', 15: '💕', 16: '💜', 17: '💀', 18: '😌', 19: '😹', 20: '⚡️', 21: '👅', 22: '😚', 23: '😓', 24: '😠', 25: '😣', 26: '😬', 27: '☕️', 28: '🎧', 29: '💓', 30: '💰', 31: '💘', 32: '😮', 33: '😻', 34: '👇', 35: '✊', 36: '💛', 37: '🌷', 38: '😡', 39: '💩', 40: '💋', 41: '🌈', 42: '💚', 43: '❗️', 44: '📍', 45: '🎁', 46: '👑', 47: '😝', 48: '☁️', 49: '🌺', 50: '😫', 51: '😕', 52: '😃', 53: '💃'}\n"
          ]
        }
      ]
    },
    {
      "cell_type": "code",
      "source": [
        "#emotion_score[user_input_2].to_numpy().sum()"
      ],
      "metadata": {
        "id": "zS0C5xUmDqOk"
      },
      "execution_count": null,
      "outputs": []
    },
    {
      "cell_type": "code",
      "source": [
        "# #tests\n",
        "# user_input=input('Please input a sentence:')\n",
        "# #anger, anticipation, disgust, fear, joy, sadness, surprise and trust\n",
        "# user_input_2=input('Please input your emotion:')"
      ],
      "metadata": {
        "colab": {
          "base_uri": "https://localhost:8080/"
        },
        "id": "XzDdV4ZzgiTE",
        "outputId": "f95378fb-1860-43be-aa6d-9feaa983f7da"
      },
      "execution_count": 129,
      "outputs": [
        {
          "name": "stdout",
          "output_type": "stream",
          "text": [
            "Please input a sentence:Super Junior is the best k-pop group\n",
            "Please input your emotion:joy\n"
          ]
        }
      ]
    },
    {
      "cell_type": "code",
      "source": [
        "from transformers import AutoModelForSequenceClassification\n",
        "from transformers import AutoTokenizer\n",
        "from datasets import Dataset\n",
        "# #load model and specify the number of expected labels\n",
        "# #model = AutoModelForSequenceClassification.from_pretrained(checkpoint1, num_labels=60)\n",
        "# model=AutoModelForSequenceClassification.from_pretrained(\"/content/drive/MyDrive/AAA_GPT2_top8_unfreeze1\")\n",
        "\n",
        "\n",
        "# tokenizer = AutoTokenizer.from_pretrained('gpt2')\n",
        "# #text = \"Hello my friends! How are you doing today?\"\n",
        "# encoding = tokenizer(user_input, return_tensors=\"pt\")\n",
        "# # for k,v in encoding.items():\n",
        "# #   print('k=',k)\n",
        "# #   print('v=',v)\n",
        "# tokenized_text={k:v for k,v in encoding.items()}\n",
        "# #print(tokenized_text)\n",
        "# #input_dic={'userinput':user_input}\n",
        "# outputs = model(**tokenized_text)\n",
        "# logits=outputs.logits\n",
        "\n",
        "\n",
        "# #user_input_dict['user input']\n",
        "# logits\n",
        "# prob,ind=torch.topk(F.softmax(logits),15)\n",
        "# prob=prob.tolist()[0]\n",
        "# j=0\n",
        "# #print(prob)\n",
        "# new_pred_dict={}\n",
        "# sum2=0\n",
        "# for i in ind.tolist()[0]:\n",
        "#   sum2=sum2+emotion_score[user_input_2][i]\n",
        "#   #print(i)\n",
        "\n",
        "# sum1=emotion_score[user_input_2].to_numpy().sum()\n",
        "# for i in ind.tolist()[0]:\n",
        "#   #print(emoji_dict[i])\n",
        "  \n",
        "#   final_score=0.5*prob[j]+0.5*emotion_score[user_input_2][j]/sum2\n",
        "#   print(emoji_dict[i],'prob=',prob[j],'\\tmodified emotion score=',emotion_score[user_input_2][i]/sum2,'\\tfinal score=',final_score)\n",
        "#   new_pred_dict[emoji_dict[i]]=final_score\n",
        "#   #print(final_score)\n",
        "#   j=j+1\n",
        "# print(new_pred_dict)\n",
        "# sorted_emoji_score= sorted(new_pred_dict.items(), key=lambda x:x[1],reverse=True)\n",
        "# print(sorted_emoji_score)\n",
        "\n",
        "# print('Input is:',user_input)\n",
        "# print('emotion is:',user_input_2)\n",
        "# print('Predicted Top 2 Emoji:',[i[0] for i in sorted_emoji_score[:2]])"
      ],
      "metadata": {
        "colab": {
          "base_uri": "https://localhost:8080/"
        },
        "id": "zbs8K1yzhCny",
        "outputId": "2595dff4-8987-465d-d3c4-c453a6063a55"
      },
      "execution_count": 135,
      "outputs": [
        {
          "output_type": "stream",
          "name": "stdout",
          "text": [
            "💚 prob= 0.17216594517230988 \tmodified emotion score= 0.06736353077816493 \tfinal score= 0.12324905853272869\n",
            "💖 prob= 0.15220975875854492 \tmodified emotion score= 0.10336817653890826 \tfinal score= 0.1277889676487266\n",
            "✨ prob= 0.11236542463302612 \tmodified emotion score= 0.061556329849012784 \tfinal score= 0.0887030375197651\n",
            "💜 prob= 0.11206582933664322 \tmodified emotion score= 0.0545876887340302 \tfinal score= 0.0670665964337107\n",
            "💃 prob= 0.08182483911514282 \tmodified emotion score= 0.08013937282229965 \tfinal score= 0.04091241955757141\n",
            "🎧 prob= 0.07619426399469376 \tmodified emotion score= 0.05110336817653891 \tfinal score= 0.089781220266801\n",
            "💗 prob= 0.05649671331048012 \tmodified emotion score= 0.10336817653890826 \tfinal score= 0.06367228232306817\n",
            "💘 prob= 0.031888920813798904 \tmodified emotion score= 0.0778164924506388 \tfinal score= 0.06588638839760794\n",
            "❗️ prob= 0.030386153608560562 \tmodified emotion score= 0.0 \tfinal score= 0.057004923494175755\n",
            "😌 prob= 0.014753121882677078 \tmodified emotion score= 0.09407665505226483 \tfinal score= 0.015506642242151548\n",
            "💋 prob= 0.013333642855286598 \tmodified emotion score= 0.09059233449477352 \tfinal score= 0.05196298867503006\n",
            "💙 prob= 0.013242840766906738 \tmodified emotion score= 0.07084785133565621 \tfinal score= 0.02113942270633374\n",
            "👑 prob= 0.012400363571941853 \tmodified emotion score= 0.032520325203252036 \tfinal score= 0.018976023830105652\n",
            "😚 prob= 0.011870463378727436 \tmodified emotion score= 0.09988385598141696 \tfinal score= 0.03671339661387011\n",
            "😫 prob= 0.011753915809094906 \tmodified emotion score= 0.012775842044134728 \tfinal score= 0.005876957904547453\n",
            "{'💚': 0.12324905853272869, '💖': 0.1277889676487266, '✨': 0.0887030375197651, '💜': 0.0670665964337107, '💃': 0.04091241955757141, '🎧': 0.089781220266801, '💗': 0.06367228232306817, '💘': 0.06588638839760794, '❗️': 0.057004923494175755, '😌': 0.015506642242151548, '💋': 0.05196298867503006, '💙': 0.02113942270633374, '👑': 0.018976023830105652, '😚': 0.03671339661387011, '😫': 0.005876957904547453}\n",
            "[('💖', 0.1277889676487266), ('💚', 0.12324905853272869), ('🎧', 0.089781220266801), ('✨', 0.0887030375197651), ('💜', 0.0670665964337107), ('💘', 0.06588638839760794), ('💗', 0.06367228232306817), ('❗️', 0.057004923494175755), ('💋', 0.05196298867503006), ('💃', 0.04091241955757141), ('😚', 0.03671339661387011), ('💙', 0.02113942270633374), ('👑', 0.018976023830105652), ('😌', 0.015506642242151548), ('😫', 0.005876957904547453)]\n",
            "Input is: Super Junior is the best k-pop group\n",
            "emotion is: joy\n",
            "Predicted Top 2 Emoji: ['💖', '💚']\n"
          ]
        },
        {
          "output_type": "stream",
          "name": "stderr",
          "text": [
            "<ipython-input-135-ce109936c36b>:24: UserWarning: Implicit dimension choice for softmax has been deprecated. Change the call to include dim=X as an argument.\n",
            "  prob,ind=torch.topk(F.softmax(logits),15)\n"
          ]
        }
      ]
    },
    {
      "cell_type": "code",
      "source": [
        "def emojimotion(user_input,emotion):\n",
        "  #load model\n",
        "  model=AutoModelForSequenceClassification.from_pretrained(\"/content/drive/MyDrive/AAA_GPT2_top8_unfreeze1\")\n",
        "  #tokenize\n",
        "  tokenizer = AutoTokenizer.from_pretrained('gpt2')\n",
        "  encoding = tokenizer(user_input, return_tensors=\"pt\")\n",
        "  tokenized_text={k:v for k,v in encoding.items()}\n",
        "  #model\n",
        "  outputs = model(**tokenized_text)\n",
        "  logits=outputs.logits\n",
        "  prob,ind=torch.topk(F.softmax(logits),15) #top 15 result\n",
        "  prob=prob.tolist()[0]\n",
        "  j=0\n",
        "  #print(prob)\n",
        "  new_pred_dict={}\n",
        "  sum2=0\n",
        "  if emotion !='None':\n",
        "    for i in ind.tolist()[0]:\n",
        "      sum2=sum2+emotion_score[emotion][i]\n",
        "  #sum1=emotion_score[user_input_2].to_numpy().sum()\n",
        "  for i in ind.tolist()[0]:\n",
        "    #final score    \n",
        "    if emotion == 'None':\n",
        "      new_pred_dict[emoji_dict[i]]=prob[j]\n",
        "    else:\n",
        "      #combine the model output and the emotion score\n",
        "      final_score=0.5*prob[j]+0.5*emotion_score[emotion][i]/sum2\n",
        "      new_pred_dict[emoji_dict[i]]=final_score\n",
        "\n",
        "    j=j+1\n",
        "  #sort the new score from high to low\n",
        "  sorted_emoji_score= sorted(new_pred_dict.items(), key=lambda x:x[1],reverse=True)\n",
        "\n",
        "  return [i[0] for i in sorted_emoji_score[:2]]"
      ],
      "metadata": {
        "id": "n7waYW5jDxQe"
      },
      "execution_count": 138,
      "outputs": []
    },
    {
      "cell_type": "code",
      "source": [
        "def change_textbox(choice):#anger, anticipation, disgust, fear, joy, sadness, surprise and trust\n",
        "    if choice == \"anger\":\n",
        "        return gr.Textbox.update(lines=8, visible=True)\n",
        "    elif choice == \"anticipation\":\n",
        "        return gr.Textbox.update(lines=8, visible=True)\n",
        "    elif choice == \"disgust\":\n",
        "        return gr.Textbox.update(lines=8, visible=True)\n",
        "    elif choice == \"fear\":\n",
        "        return gr.Textbox.update(lines=8, visible=True)\n",
        "    elif choice == \"joy\":\n",
        "        return gr.Textbox.update(lines=8, visible=True)\n",
        "    elif choice == \"sadness\":\n",
        "        return gr.Textbox.update(lines=8, visible=True)\n",
        "    elif choice == \"surprise\":\n",
        "        return gr.Textbox.update(lines=8, visible=True)\n",
        "    elif choice == \"trust\":\n",
        "        return gr.Textbox.update(lines=8, visible=True)\n",
        "    else:\n",
        "        return gr.Textbox.update(visible=False)\n",
        "\n",
        "\n",
        "with gr.Blocks() as block:\n",
        "    InputSentence = gr.Textbox(lines=2, interactive=True,label='Input your sentence here:')\n",
        "    radio = gr.Radio([\"anger\", \"anticipation\", \"disgust\", \"fear\", \"joy\", \"sadness\", \"surprise\",\"trust\", \"none\"], label=\"What's your emotion\")\n",
        "    Emoji = gr.Textbox(lines=2, interactive=True,label='Your emoji:')\n",
        "    radio.change(fn=change_textbox, inputs=radio)\n",
        "    b1 = gr.Button(\"Go Emoji!\")\n",
        "    #b2 = gr.Button(\"Go Emoji2!\")\n",
        "    b1.click(fn=emojimotion, inputs=[InputSentence,radio], outputs=Emoji)\n",
        "block.launch()"
      ],
      "metadata": {
        "colab": {
          "base_uri": "https://localhost:8080/",
          "height": 619
        },
        "id": "prwWL71rDzsF",
        "outputId": "b3a133e5-c7dd-42f1-918a-5104fe700ee9"
      },
      "execution_count": 140,
      "outputs": [
        {
          "output_type": "stream",
          "name": "stdout",
          "text": [
            "Colab notebook detected. To show errors in colab notebook, set `debug=True` in `launch()`\n",
            "Note: opening Chrome Inspector may crash demo inside Colab notebooks.\n",
            "\n",
            "To create a public link, set `share=True` in `launch()`.\n"
          ]
        },
        {
          "output_type": "display_data",
          "data": {
            "text/plain": [
              "<IPython.core.display.Javascript object>"
            ],
            "application/javascript": [
              "(async (port, path, width, height, cache, element) => {\n",
              "                        if (!google.colab.kernel.accessAllowed && !cache) {\n",
              "                            return;\n",
              "                        }\n",
              "                        element.appendChild(document.createTextNode(''));\n",
              "                        const url = await google.colab.kernel.proxyPort(port, {cache});\n",
              "\n",
              "                        const external_link = document.createElement('div');\n",
              "                        external_link.innerHTML = `\n",
              "                            <div style=\"font-family: monospace; margin-bottom: 0.5rem\">\n",
              "                                Running on <a href=${new URL(path, url).toString()} target=\"_blank\">\n",
              "                                    https://localhost:${port}${path}\n",
              "                                </a>\n",
              "                            </div>\n",
              "                        `;\n",
              "                        element.appendChild(external_link);\n",
              "\n",
              "                        const iframe = document.createElement('iframe');\n",
              "                        iframe.src = new URL(path, url).toString();\n",
              "                        iframe.height = height;\n",
              "                        iframe.allow = \"autoplay; camera; microphone; clipboard-read; clipboard-write;\"\n",
              "                        iframe.width = width;\n",
              "                        iframe.style.border = 0;\n",
              "                        element.appendChild(iframe);\n",
              "                    })(7862, \"/\", \"100%\", 500, false, window.element)"
            ]
          },
          "metadata": {}
        },
        {
          "output_type": "execute_result",
          "data": {
            "text/plain": []
          },
          "metadata": {},
          "execution_count": 140
        }
      ]
    },
    {
      "cell_type": "code",
      "source": [],
      "metadata": {
        "id": "JtVpPbkOD2RC"
      },
      "execution_count": null,
      "outputs": []
    }
  ]
}